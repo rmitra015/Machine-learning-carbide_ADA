{
 "cells": [
  {
   "cell_type": "code",
   "execution_count": 1,
   "id": "92ffd8f8",
   "metadata": {},
   "outputs": [],
   "source": [
    "import pandas as pd\n",
    "import numpy as np\n",
    "import matplotlib.pyplot as plt\n",
    "import seaborn as sns\n",
    "from itertools import combinations\n",
    "from pandas import DataFrame\n",
    "import sklearn\n",
    "from pandas import DataFrame\n",
    "import scikitplot as skplt\n",
    "from sklearn.multiclass import OneVsRestClassifier\n",
    "from sklearn.model_selection import train_test_split\n",
    "from sklearn.decomposition import PCA \n",
    "from sklearn.pipeline import Pipeline\n",
    "from sklearn.preprocessing import StandardScaler \n",
    "from sklearn.model_selection import GridSearchCV, cross_val_score\n",
    "from sklearn.neighbors import KNeighborsClassifier\n",
    "from sklearn.ensemble import RandomForestClassifier\n",
    "from sklearn.naive_bayes import GaussianNB\n",
    "from sklearn.svm import LinearSVC\n",
    "svm=LinearSVC()\n",
    "kn=KNeighborsClassifier()\n",
    "rf=RandomForestClassifier()\n",
    "gnb=GaussianNB()"
   ]
  },
  {
   "cell_type": "code",
   "execution_count": 2,
   "id": "5fd51084",
   "metadata": {},
   "outputs": [],
   "source": [
    "import matplotlib as mt\n",
    "axes= {\"linewidth\" : 3}\n",
    "mt.rc(\"axes\", **axes)\n",
    "font={\"weight\": 'bold', \"family\": \"Times new roman\", \"size\": 12}\n",
    "mt.rc(\"font\", **font)"
   ]
  },
  {
   "cell_type": "code",
   "execution_count": 3,
   "id": "627191d8",
   "metadata": {},
   "outputs": [
    {
     "data": {
      "text/html": [
       "<div>\n",
       "<style scoped>\n",
       "    .dataframe tbody tr th:only-of-type {\n",
       "        vertical-align: middle;\n",
       "    }\n",
       "\n",
       "    .dataframe tbody tr th {\n",
       "        vertical-align: top;\n",
       "    }\n",
       "\n",
       "    .dataframe thead th {\n",
       "        text-align: right;\n",
       "    }\n",
       "</style>\n",
       "<table border=\"1\" class=\"dataframe\">\n",
       "  <thead>\n",
       "    <tr style=\"text-align: right;\">\n",
       "      <th></th>\n",
       "      <th>ΔX mulliken</th>\n",
       "      <th>rA/rC</th>\n",
       "      <th>ΔX Pauling</th>\n",
       "      <th>Delta</th>\n",
       "      <th>ΔH mixing</th>\n",
       "      <th>ΔS mixing</th>\n",
       "      <th>AIC</th>\n",
       "      <th>ΔP-rad</th>\n",
       "      <th>Phase formation</th>\n",
       "    </tr>\n",
       "  </thead>\n",
       "  <tbody>\n",
       "    <tr>\n",
       "      <th>0</th>\n",
       "      <td>2.629500</td>\n",
       "      <td>0.437500</td>\n",
       "      <td>0.9280</td>\n",
       "      <td>0.063086</td>\n",
       "      <td>1.12</td>\n",
       "      <td>13.38</td>\n",
       "      <td>18.186440</td>\n",
       "      <td>2.01000</td>\n",
       "      <td>Single phase</td>\n",
       "    </tr>\n",
       "    <tr>\n",
       "      <th>1</th>\n",
       "      <td>2.624000</td>\n",
       "      <td>0.437500</td>\n",
       "      <td>0.9220</td>\n",
       "      <td>0.063086</td>\n",
       "      <td>-0.16</td>\n",
       "      <td>13.38</td>\n",
       "      <td>18.038570</td>\n",
       "      <td>1.99300</td>\n",
       "      <td>Single phase</td>\n",
       "    </tr>\n",
       "    <tr>\n",
       "      <th>2</th>\n",
       "      <td>2.543300</td>\n",
       "      <td>0.482759</td>\n",
       "      <td>0.9640</td>\n",
       "      <td>0.026537</td>\n",
       "      <td>-3.84</td>\n",
       "      <td>13.38</td>\n",
       "      <td>18.688520</td>\n",
       "      <td>1.96000</td>\n",
       "      <td>Single phase</td>\n",
       "    </tr>\n",
       "    <tr>\n",
       "      <th>3</th>\n",
       "      <td>2.533000</td>\n",
       "      <td>0.451613</td>\n",
       "      <td>1.0120</td>\n",
       "      <td>0.046064</td>\n",
       "      <td>-3.52</td>\n",
       "      <td>13.38</td>\n",
       "      <td>19.836200</td>\n",
       "      <td>2.02600</td>\n",
       "      <td>Single phase</td>\n",
       "    </tr>\n",
       "    <tr>\n",
       "      <th>4</th>\n",
       "      <td>2.629800</td>\n",
       "      <td>0.451613</td>\n",
       "      <td>1.0040</td>\n",
       "      <td>0.047429</td>\n",
       "      <td>-3.84</td>\n",
       "      <td>13.38</td>\n",
       "      <td>19.650520</td>\n",
       "      <td>1.98400</td>\n",
       "      <td>Single phase</td>\n",
       "    </tr>\n",
       "    <tr>\n",
       "      <th>...</th>\n",
       "      <td>...</td>\n",
       "      <td>...</td>\n",
       "      <td>...</td>\n",
       "      <td>...</td>\n",
       "      <td>...</td>\n",
       "      <td>...</td>\n",
       "      <td>...</td>\n",
       "      <td>...</td>\n",
       "      <td>...</td>\n",
       "    </tr>\n",
       "    <tr>\n",
       "      <th>287</th>\n",
       "      <td>2.099125</td>\n",
       "      <td>0.378378</td>\n",
       "      <td>0.7175</td>\n",
       "      <td>0.153609</td>\n",
       "      <td>-42.75</td>\n",
       "      <td>11.52</td>\n",
       "      <td>13.939362</td>\n",
       "      <td>2.02875</td>\n",
       "      <td>Multi phase</td>\n",
       "    </tr>\n",
       "    <tr>\n",
       "      <th>288</th>\n",
       "      <td>2.321625</td>\n",
       "      <td>0.500000</td>\n",
       "      <td>0.6550</td>\n",
       "      <td>0.030428</td>\n",
       "      <td>-22.25</td>\n",
       "      <td>11.52</td>\n",
       "      <td>12.309975</td>\n",
       "      <td>1.78625</td>\n",
       "      <td>Multi phase</td>\n",
       "    </tr>\n",
       "    <tr>\n",
       "      <th>289</th>\n",
       "      <td>2.414375</td>\n",
       "      <td>0.500000</td>\n",
       "      <td>0.6900</td>\n",
       "      <td>0.015890</td>\n",
       "      <td>-3.50</td>\n",
       "      <td>11.52</td>\n",
       "      <td>13.056875</td>\n",
       "      <td>1.87625</td>\n",
       "      <td>Multi phase</td>\n",
       "    </tr>\n",
       "    <tr>\n",
       "      <th>290</th>\n",
       "      <td>2.279875</td>\n",
       "      <td>0.482759</td>\n",
       "      <td>0.4825</td>\n",
       "      <td>0.040656</td>\n",
       "      <td>-6.00</td>\n",
       "      <td>11.52</td>\n",
       "      <td>8.866862</td>\n",
       "      <td>1.93000</td>\n",
       "      <td>Multi phase</td>\n",
       "    </tr>\n",
       "    <tr>\n",
       "      <th>291</th>\n",
       "      <td>1.910125</td>\n",
       "      <td>0.500000</td>\n",
       "      <td>0.5675</td>\n",
       "      <td>0.018182</td>\n",
       "      <td>-12.00</td>\n",
       "      <td>11.52</td>\n",
       "      <td>10.495662</td>\n",
       "      <td>1.87250</td>\n",
       "      <td>Multi phase</td>\n",
       "    </tr>\n",
       "  </tbody>\n",
       "</table>\n",
       "<p>292 rows × 9 columns</p>\n",
       "</div>"
      ],
      "text/plain": [
       "     ΔX mulliken     rA/rC  ΔX Pauling     Delta  ΔH mixing  ΔS mixing  \\\n",
       "0       2.629500  0.437500      0.9280  0.063086       1.12      13.38   \n",
       "1       2.624000  0.437500      0.9220  0.063086      -0.16      13.38   \n",
       "2       2.543300  0.482759      0.9640  0.026537      -3.84      13.38   \n",
       "3       2.533000  0.451613      1.0120  0.046064      -3.52      13.38   \n",
       "4       2.629800  0.451613      1.0040  0.047429      -3.84      13.38   \n",
       "..           ...       ...         ...       ...        ...        ...   \n",
       "287     2.099125  0.378378      0.7175  0.153609     -42.75      11.52   \n",
       "288     2.321625  0.500000      0.6550  0.030428     -22.25      11.52   \n",
       "289     2.414375  0.500000      0.6900  0.015890      -3.50      11.52   \n",
       "290     2.279875  0.482759      0.4825  0.040656      -6.00      11.52   \n",
       "291     1.910125  0.500000      0.5675  0.018182     -12.00      11.52   \n",
       "\n",
       "           AIC   ΔP-rad Phase formation  \n",
       "0    18.186440  2.01000    Single phase  \n",
       "1    18.038570  1.99300    Single phase  \n",
       "2    18.688520  1.96000    Single phase  \n",
       "3    19.836200  2.02600    Single phase  \n",
       "4    19.650520  1.98400    Single phase  \n",
       "..         ...      ...             ...  \n",
       "287  13.939362  2.02875     Multi phase  \n",
       "288  12.309975  1.78625     Multi phase  \n",
       "289  13.056875  1.87625     Multi phase  \n",
       "290   8.866862  1.93000     Multi phase  \n",
       "291  10.495662  1.87250     Multi phase  \n",
       "\n",
       "[292 rows x 9 columns]"
      ]
     },
     "execution_count": 3,
     "metadata": {},
     "output_type": "execute_result"
    }
   ],
   "source": [
    "dataset=pd.read_excel(\"Combined data.xlsx\")\n",
    "dataset"
   ]
  },
  {
   "cell_type": "code",
   "execution_count": 4,
   "id": "f0313493",
   "metadata": {},
   "outputs": [
    {
     "data": {
      "text/html": [
       "<div>\n",
       "<style scoped>\n",
       "    .dataframe tbody tr th:only-of-type {\n",
       "        vertical-align: middle;\n",
       "    }\n",
       "\n",
       "    .dataframe tbody tr th {\n",
       "        vertical-align: top;\n",
       "    }\n",
       "\n",
       "    .dataframe thead th {\n",
       "        text-align: right;\n",
       "    }\n",
       "</style>\n",
       "<table border=\"1\" class=\"dataframe\">\n",
       "  <thead>\n",
       "    <tr style=\"text-align: right;\">\n",
       "      <th></th>\n",
       "      <th>Phase formation</th>\n",
       "    </tr>\n",
       "  </thead>\n",
       "  <tbody>\n",
       "    <tr>\n",
       "      <th>0</th>\n",
       "      <td>Single phase</td>\n",
       "    </tr>\n",
       "    <tr>\n",
       "      <th>1</th>\n",
       "      <td>Single phase</td>\n",
       "    </tr>\n",
       "    <tr>\n",
       "      <th>2</th>\n",
       "      <td>Single phase</td>\n",
       "    </tr>\n",
       "    <tr>\n",
       "      <th>3</th>\n",
       "      <td>Single phase</td>\n",
       "    </tr>\n",
       "    <tr>\n",
       "      <th>4</th>\n",
       "      <td>Single phase</td>\n",
       "    </tr>\n",
       "    <tr>\n",
       "      <th>...</th>\n",
       "      <td>...</td>\n",
       "    </tr>\n",
       "    <tr>\n",
       "      <th>287</th>\n",
       "      <td>Multi phase</td>\n",
       "    </tr>\n",
       "    <tr>\n",
       "      <th>288</th>\n",
       "      <td>Multi phase</td>\n",
       "    </tr>\n",
       "    <tr>\n",
       "      <th>289</th>\n",
       "      <td>Multi phase</td>\n",
       "    </tr>\n",
       "    <tr>\n",
       "      <th>290</th>\n",
       "      <td>Multi phase</td>\n",
       "    </tr>\n",
       "    <tr>\n",
       "      <th>291</th>\n",
       "      <td>Multi phase</td>\n",
       "    </tr>\n",
       "  </tbody>\n",
       "</table>\n",
       "<p>292 rows × 1 columns</p>\n",
       "</div>"
      ],
      "text/plain": [
       "    Phase formation\n",
       "0      Single phase\n",
       "1      Single phase\n",
       "2      Single phase\n",
       "3      Single phase\n",
       "4      Single phase\n",
       "..              ...\n",
       "287     Multi phase\n",
       "288     Multi phase\n",
       "289     Multi phase\n",
       "290     Multi phase\n",
       "291     Multi phase\n",
       "\n",
       "[292 rows x 1 columns]"
      ]
     },
     "execution_count": 4,
     "metadata": {},
     "output_type": "execute_result"
    }
   ],
   "source": [
    "x=dataset[[\"ΔX mulliken\", 'rA/rC', 'ΔX Pauling', 'Delta', 'ΔH mixing', 'ΔS mixing']]\n",
    "y=dataset[[\"Phase formation\"]]\n",
    "y"
   ]
  },
  {
   "cell_type": "code",
   "execution_count": 5,
   "id": "b8793fcb",
   "metadata": {},
   "outputs": [],
   "source": [
    "x_train, x_test1,  y_train1, y_test1=train_test_split(x, y, test_size=0.25, random_state=25)"
   ]
  },
  {
   "cell_type": "code",
   "execution_count": 6,
   "id": "5997268f",
   "metadata": {},
   "outputs": [],
   "source": [
    "cv_method=sklearn.model_selection.RepeatedStratifiedKFold(n_repeats=5, n_splits=3, random_state=40)"
   ]
  },
  {
   "cell_type": "code",
   "execution_count": 7,
   "id": "924cda30",
   "metadata": {},
   "outputs": [],
   "source": [
    "sc=StandardScaler()\n",
    "pca=PCA(n_components=3)"
   ]
  },
  {
   "cell_type": "code",
   "execution_count": 8,
   "id": "c25500bd",
   "metadata": {},
   "outputs": [],
   "source": [
    "x_train1=pd.DataFrame(sc.fit_transform(x_train))\n",
    "x_train1\n",
    "x_test1=pd.DataFrame(sc.fit_transform(x_test1))"
   ]
  },
  {
   "cell_type": "code",
   "execution_count": null,
   "id": "d3e2cd4a",
   "metadata": {},
   "outputs": [],
   "source": []
  },
  {
   "cell_type": "code",
   "execution_count": null,
   "id": "840c5d67",
   "metadata": {},
   "outputs": [],
   "source": []
  },
  {
   "cell_type": "code",
   "execution_count": 9,
   "id": "1b068bbb",
   "metadata": {},
   "outputs": [
    {
     "name": "stderr",
     "output_type": "stream",
     "text": [
      "C:\\Users\\rmitr\\anaconda3\\lib\\site-packages\\sklearn\\neighbors\\_classification.py:179: DataConversionWarning: A column-vector y was passed when a 1d array was expected. Please change the shape of y to (n_samples,), for example using ravel().\n",
      "  return self._fit(X, y)\n"
     ]
    },
    {
     "data": {
      "text/plain": [
       "0.9680365296803652"
      ]
     },
     "execution_count": 9,
     "metadata": {},
     "output_type": "execute_result"
    }
   ],
   "source": [
    "kn.fit(x_train1, y_train1)\n",
    "score_knn_train1=kn.score(x_train1, y_train1)\n",
    "score_knn_train1"
   ]
  },
  {
   "cell_type": "code",
   "execution_count": 10,
   "id": "08be9c5b",
   "metadata": {},
   "outputs": [
    {
     "data": {
      "text/plain": [
       "0.9726027397260274"
      ]
     },
     "execution_count": 10,
     "metadata": {},
     "output_type": "execute_result"
    }
   ],
   "source": [
    "score_knn_test1=kn.score(x_test1, y_test1)\n",
    "score_knn_test1"
   ]
  },
  {
   "cell_type": "code",
   "execution_count": 11,
   "id": "2d73ae42",
   "metadata": {},
   "outputs": [
    {
     "name": "stdout",
     "output_type": "stream",
     "text": [
      "Fitting 15 folds for each of 44 candidates, totalling 660 fits\n",
      "Wall time: 8.82 s\n"
     ]
    },
    {
     "name": "stderr",
     "output_type": "stream",
     "text": [
      "C:\\Users\\rmitr\\anaconda3\\lib\\site-packages\\sklearn\\neighbors\\_classification.py:179: DataConversionWarning: A column-vector y was passed when a 1d array was expected. Please change the shape of y to (n_samples,), for example using ravel().\n",
      "  return self._fit(X, y)\n"
     ]
    },
    {
     "data": {
      "text/plain": [
       "{'kn__metric': 'manhattan', 'kn__n_neighbors': 6, 'kn__weights': 'distance'}"
      ]
     },
     "execution_count": 11,
     "metadata": {},
     "output_type": "execute_result"
    }
   ],
   "source": [
    "%%time\n",
    "#KNN\n",
    "knn_pipe=Pipeline(steps=[('pca', pca),\n",
    "                        ('kn', kn)])\n",
    "grid_params={\n",
    "    'kn__n_neighbors': [3, 4, 5, 6, 7, 8, 9, 10, 11, 12, 13],\n",
    "    'kn__weights':['uniform', 'distance'],\n",
    "    'kn__metric':['euclidean', 'manhattan']\n",
    "}\n",
    "gs=GridSearchCV(knn_pipe, grid_params,  cv = cv_method, verbose = 1, \n",
    "                      n_jobs = -1)\n",
    "gs_results=gs.fit(x_train1, y_train1)\n",
    "gs_results.best_params_"
   ]
  },
  {
   "cell_type": "code",
   "execution_count": 12,
   "id": "95bdc3ae",
   "metadata": {},
   "outputs": [
    {
     "name": "stderr",
     "output_type": "stream",
     "text": [
      "C:\\Users\\rmitr\\anaconda3\\lib\\site-packages\\sklearn\\neighbors\\_classification.py:179: DataConversionWarning: A column-vector y was passed when a 1d array was expected. Please change the shape of y to (n_samples,), for example using ravel().\n",
      "  return self._fit(X, y)\n"
     ]
    },
    {
     "data": {
      "text/plain": [
       "1.0"
      ]
     },
     "execution_count": 12,
     "metadata": {},
     "output_type": "execute_result"
    }
   ],
   "source": [
    "kn_hp=KNeighborsClassifier(n_neighbors=6,metric='euclidean', weights='distance')\n",
    "kn_hp.fit(x_train1, y_train1)\n",
    "score_knn_train1=kn_hp.score(x_train1, y_train1)\n",
    "score_knn_train1"
   ]
  },
  {
   "cell_type": "code",
   "execution_count": 13,
   "id": "1d93b5c0",
   "metadata": {},
   "outputs": [
    {
     "data": {
      "text/plain": [
       "0.9726027397260274"
      ]
     },
     "execution_count": 13,
     "metadata": {},
     "output_type": "execute_result"
    }
   ],
   "source": [
    "score_knn_test1=kn_hp.score(x_test1, y_test1)\n",
    "score_knn_test1"
   ]
  },
  {
   "cell_type": "code",
   "execution_count": null,
   "id": "3b20bcca",
   "metadata": {},
   "outputs": [],
   "source": []
  },
  {
   "cell_type": "code",
   "execution_count": null,
   "id": "e26bcc02",
   "metadata": {},
   "outputs": [],
   "source": []
  },
  {
   "cell_type": "code",
   "execution_count": 16,
   "id": "66c53394",
   "metadata": {},
   "outputs": [],
   "source": [
    "from sklearn.metrics import accuracy_score\n",
    "from numpy import mean"
   ]
  },
  {
   "cell_type": "code",
   "execution_count": 17,
   "id": "9645bb18",
   "metadata": {},
   "outputs": [],
   "source": [
    "def baseline_model(model_name):\n",
    "    model = model_name\n",
    "    steps = list()\n",
    "    steps.append(('sc', sc))\n",
    "    steps.append(('ml', model))\n",
    "    pipeline = Pipeline(steps=steps)\n",
    "    cv = cv_method\n",
    "    scores = cross_val_score(pipeline, x_train1, y_train1, scoring='accuracy', cv=cv, n_jobs=-1)\n",
    "    scores=100*scores\n",
    "    print(model,'Accuracy: %.3f' % (mean(scores)))\n",
    "    print('Std: %.3f'%  np.std(scores))"
   ]
  },
  {
   "cell_type": "code",
   "execution_count": 18,
   "id": "c7f787eb",
   "metadata": {},
   "outputs": [
    {
     "name": "stdout",
     "output_type": "stream",
     "text": [
      "KNeighborsClassifier() Accuracy: 94.703\n",
      "Std: 2.392\n",
      "KNeighborsClassifier(metric='euclidean', n_neighbors=6, weights='distance') Accuracy: 95.708\n",
      "Std: 2.114\n",
      "Wall time: 214 ms\n"
     ]
    }
   ],
   "source": [
    "%%time\n",
    "baseline_model(kn)\n",
    "baseline_model(kn_hp)"
   ]
  },
  {
   "cell_type": "code",
   "execution_count": null,
   "id": "81e20ac9",
   "metadata": {},
   "outputs": [],
   "source": []
  },
  {
   "cell_type": "code",
   "execution_count": null,
   "id": "ee4f17e2",
   "metadata": {},
   "outputs": [],
   "source": []
  },
  {
   "cell_type": "code",
   "execution_count": 19,
   "id": "f14d1984",
   "metadata": {},
   "outputs": [],
   "source": [
    "from sklearn.datasets import load_digits\n",
    "from sklearn.model_selection import learning_curve\n",
    "from sklearn.model_selection import ShuffleSplit"
   ]
  },
  {
   "cell_type": "code",
   "execution_count": 20,
   "id": "12e22b6e",
   "metadata": {},
   "outputs": [],
   "source": [
    "def plot_learning_curve(estimator, X, y, ylim=None, cv=None,\n",
    "                        n_jobs=None, train_sizes=np.linspace(.01, 1.0, 50)):\n",
    "  \n",
    "    fig,ax = plt.subplots(1, 1, figsize=(7,7))\n",
    "\n",
    "    plt.xlabel(\"Training Examples\",font='Times New Roman',fontweight='bold',fontsize=25)\n",
    "    plt.ylabel(\"Accuracy Score\",font='Times New Roman',fontweight='bold',fontsize=25)\n",
    "\n",
    "    train_sizes, train_scores, test_scores, fit_times, _ = \\\n",
    "        learning_curve(estimator, X, y, cv=cv, n_jobs=n_jobs,\n",
    "                       train_sizes=train_sizes,\n",
    "                       return_times=True)\n",
    "    train_scores_mean = (np.mean(train_scores, axis=1))*100\n",
    "    train_scores_std = (np.std(train_scores, axis=1))*100\n",
    "    test_scores_mean = (np.mean(test_scores, axis=1))*100\n",
    "    test_scores_std = (np.std(test_scores, axis=1))*100\n",
    "    fit_times_mean = np.mean(fit_times, axis=1)\n",
    "    fit_times_std = np.std(fit_times, axis=1)\n",
    "\n",
    "    # Plot learning curve\n",
    "    plt.grid()\n",
    "    plt.fill_between(train_sizes, train_scores_mean - train_scores_std,\n",
    "                         train_scores_mean + train_scores_std, alpha=0.1,\n",
    "                         color=\"r\")\n",
    "    plt.fill_between(train_sizes, test_scores_mean - test_scores_std,\n",
    "                         test_scores_mean + test_scores_std, alpha=0.1,\n",
    "                         color=\"g\")\n",
    "    plt.plot(train_sizes, train_scores_mean, 'o-', color=\"r\",\n",
    "                 label=\"Training score\")\n",
    "    plt.plot(train_sizes, test_scores_mean, 'o-', color=\"g\",\n",
    "                 label=\"Cross-validation score\")\n",
    "    leg=plt.legend(loc='lower right',prop={'size':12})\n",
    "    leg.get_frame().set_edgecolor('k')\n",
    "    return plt"
   ]
  },
  {
   "cell_type": "code",
   "execution_count": 21,
   "id": "1d4d20ce",
   "metadata": {},
   "outputs": [],
   "source": [
    "X=pd.concat([x_train1,x_test1])\n",
    "X\n",
    "Y=pd.concat([y_train1,y_test1])"
   ]
  },
  {
   "cell_type": "code",
   "execution_count": 26,
   "id": "b11a209e",
   "metadata": {},
   "outputs": [
    {
     "data": {
      "image/png": "[encoded data removed]",
      "text/plain": [
       "<Figure size 504x504 with 1 Axes>"
      ]
     },
     "metadata": {
      "needs_background": "light"
     },
     "output_type": "display_data"
    }
   ],
   "source": [
    "cv = cv_method\n",
    "plot_learning_curve(kn_hp, X,Y, ylim=(0.1, 1.01), cv=cv, n_jobs=-1)\n",
    "plt.grid(True)\n",
    "plt.xlim([0,200])\n",
    "plt.ylim([50, 102])\n",
    "plt.xticks(range(0, 200, 25))\n",
    "plt.savefig('learning curve kNN initial imbalanced.jpg',bbox_inches='tight', dpi=600)"
   ]
  },
  {
   "cell_type": "code",
   "execution_count": null,
   "id": "245d416b",
   "metadata": {},
   "outputs": [],
   "source": []
  },
  {
   "cell_type": "code",
   "execution_count": 27,
   "id": "27e44768",
   "metadata": {},
   "outputs": [],
   "source": [
    "clf = OneVsRestClassifier(kn_hp)\n",
    "clf.fit(x_train1, y_train1)\n",
    "predicted_probas = clf.predict_proba(x_test1)"
   ]
  },
  {
   "cell_type": "code",
   "execution_count": 28,
   "id": "7b4fde4f",
   "metadata": {},
   "outputs": [
    {
     "data": {
      "image/png": "[encoded data removed]",
      "text/plain": [
       "<Figure size 504x432 with 1 Axes>"
      ]
     },
     "metadata": {
      "needs_background": "light"
     },
     "output_type": "display_data"
    }
   ],
   "source": [
    "# The magic happens here\n",
    "import matplotlib.pyplot as plt\n",
    "import scikitplot as skplt\n",
    "skplt.metrics.plot_roc(y_test1, predicted_probas, title=None, text_fontsize=18, figsize=(7,6))\n",
    "plt.legend(loc=\"lower right\", fontsize= 14)\n",
    "plt.xlim([-0.05, 1])\n",
    "plt.xlabel('False Positive Rate',fontweight='bold',fontsize=20)\n",
    "plt.ylabel('True Positive Rate',fontweight='bold',fontsize=20)\n",
    "plt.savefig('AUC-ROC kNN initial imbalanced.JPG',dpi=600,bbox_inches='tight')"
   ]
  },
  {
   "cell_type": "code",
   "execution_count": 29,
   "id": "e7da7f22",
   "metadata": {},
   "outputs": [
    {
     "data": {
      "image/png": "[encoded data removed]",
      "text/plain": [
       "<Figure size 576x504 with 1 Axes>"
      ]
     },
     "metadata": {
      "needs_background": "light"
     },
     "output_type": "display_data"
    }
   ],
   "source": [
    "skplt.metrics.plot_precision_recall(y_test1, predicted_probas, title=None, text_fontsize=18, figsize=(8,7))\n",
    "plt.xlim([0, 1])\n",
    "plt.xlabel('Recall',fontweight='bold',fontsize=20)\n",
    "plt.ylabel('Precision',fontweight='bold',fontsize=20)\n",
    "plt.legend(loc=\"lower right\", fontsize= 14)\n",
    "plt.savefig('Precision Recall kNN initial imbalanced.JPG',dpi=600,bbox_inches='tight')"
   ]
  },
  {
   "cell_type": "code",
   "execution_count": 30,
   "id": "b480da58",
   "metadata": {},
   "outputs": [],
   "source": [
    "from sklearn.metrics import roc_auc_score\n",
    "from sklearn.metrics import average_precision_score\n",
    "from sklearn.metrics import f1_score\n",
    "from sklearn.metrics import classification_report"
   ]
  },
  {
   "cell_type": "code",
   "execution_count": 31,
   "id": "fec5d8a1",
   "metadata": {},
   "outputs": [
    {
     "name": "stderr",
     "output_type": "stream",
     "text": [
      "C:\\Users\\rmitr\\anaconda3\\lib\\site-packages\\sklearn\\neighbors\\_classification.py:179: DataConversionWarning: A column-vector y was passed when a 1d array was expected. Please change the shape of y to (n_samples,), for example using ravel().\n",
      "  return self._fit(X, y)\n"
     ]
    },
    {
     "data": {
      "image/png": "[encoded data removed]",
      "text/plain": [
       "<Figure size 432x288 with 2 Axes>"
      ]
     },
     "metadata": {
      "needs_background": "light"
     },
     "output_type": "display_data"
    }
   ],
   "source": [
    "model=kn_hp\n",
    "model.fit(x_train1, y_train1)\n",
    "y_pred = model.predict(x_test1)\n",
    "skplt.metrics.plot_confusion_matrix(y_test1, y_pred, normalize=True, title=None, text_fontsize=16)\n",
    "plt.xlabel('Predicted phase',fontweight='bold',fontsize=20)\n",
    "plt.ylabel('Actual phase',fontweight='bold',fontsize=20)\n",
    "plt.savefig('Confusion matrix kNN initial imbalanced.jpg',bbox_inches='tight', dpi=600)"
   ]
  },
  {
   "cell_type": "code",
   "execution_count": 32,
   "id": "68ea706a",
   "metadata": {},
   "outputs": [
    {
     "data": {
      "text/plain": [
       "0.9719869021869743"
      ]
     },
     "execution_count": 32,
     "metadata": {},
     "output_type": "execute_result"
    }
   ],
   "source": [
    "f1_score(y_test1, y_pred, average='weighted')"
   ]
  },
  {
   "cell_type": "code",
   "execution_count": null,
   "id": "efaacb40",
   "metadata": {},
   "outputs": [],
   "source": []
  }
 ],
 "metadata": {
  "kernelspec": {
   "display_name": "Python 3 (ipykernel)",
   "language": "python",
   "name": "python3"
  },
  "language_info": {
   "codemirror_mode": {
    "name": "ipython",
    "version": 3
   },
   "file_extension": ".py",
   "mimetype": "text/x-python",
   "name": "python",
   "nbconvert_exporter": "python",
   "pygments_lexer": "ipython3",
   "version": "3.9.7"
  }
 },
 "nbformat": 4,
 "nbformat_minor": 5
}
