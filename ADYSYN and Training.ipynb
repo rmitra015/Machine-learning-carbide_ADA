{
 "cells": [
  {
   "cell_type": "code",
   "execution_count": 1,
   "id": "af6892de",
   "metadata": {},
   "outputs": [],
   "source": [
    "import pandas as pd\n",
    "import numpy as np\n",
    "import matplotlib.pyplot as plt\n",
    "import seaborn as sns\n",
    "from itertools import combinations\n",
    "from pandas import DataFrame\n",
    "import sklearn\n",
    "from pandas import DataFrame\n",
    "import scikitplot as skplt\n",
    "from sklearn.multiclass import OneVsRestClassifier\n",
    "from sklearn.model_selection import train_test_split\n",
    "from sklearn.decomposition import PCA \n",
    "from sklearn.pipeline import Pipeline\n",
    "from sklearn.preprocessing import StandardScaler \n",
    "from sklearn.model_selection import GridSearchCV, cross_val_score\n",
    "from sklearn.neighbors import KNeighborsClassifier\n",
    "from sklearn.ensemble import RandomForestClassifier\n",
    "from sklearn.naive_bayes import GaussianNB\n",
    "from sklearn.svm import LinearSVC\n",
    "svm=LinearSVC()\n",
    "kn=KNeighborsClassifier()\n",
    "rf=RandomForestClassifier()\n",
    "gnb=GaussianNB()"
   ]
  },
  {
   "cell_type": "code",
   "execution_count": 2,
   "id": "dd116315",
   "metadata": {},
   "outputs": [],
   "source": [
    "import matplotlib as mt\n",
    "axes= {\"linewidth\" : 3}\n",
    "mt.rc(\"axes\", **axes)\n",
    "font={\"weight\": 'bold', \"family\": \"Times new roman\", \"size\": 20}\n",
    "mt.rc(\"font\", **font)"
   ]
  },
  {
   "cell_type": "code",
   "execution_count": 3,
   "id": "0a29bc7b",
   "metadata": {},
   "outputs": [],
   "source": [
    "from imblearn.over_sampling import ADASYN"
   ]
  },
  {
   "cell_type": "code",
   "execution_count": 4,
   "id": "2a0a5f79",
   "metadata": {},
   "outputs": [
    {
     "data": {
      "text/html": [
       "<div>\n",
       "<style scoped>\n",
       "    .dataframe tbody tr th:only-of-type {\n",
       "        vertical-align: middle;\n",
       "    }\n",
       "\n",
       "    .dataframe tbody tr th {\n",
       "        vertical-align: top;\n",
       "    }\n",
       "\n",
       "    .dataframe thead th {\n",
       "        text-align: right;\n",
       "    }\n",
       "</style>\n",
       "<table border=\"1\" class=\"dataframe\">\n",
       "  <thead>\n",
       "    <tr style=\"text-align: right;\">\n",
       "      <th></th>\n",
       "      <th>ΔX mulliken</th>\n",
       "      <th>rA/rC</th>\n",
       "      <th>ΔX Pauling</th>\n",
       "      <th>Delta</th>\n",
       "      <th>ΔH mixing</th>\n",
       "      <th>ΔS mixing</th>\n",
       "      <th>AIC</th>\n",
       "      <th>ΔP-rad</th>\n",
       "      <th>Phase formation</th>\n",
       "    </tr>\n",
       "  </thead>\n",
       "  <tbody>\n",
       "    <tr>\n",
       "      <th>0</th>\n",
       "      <td>2.629500</td>\n",
       "      <td>0.437500</td>\n",
       "      <td>0.9280</td>\n",
       "      <td>0.063086</td>\n",
       "      <td>1.12</td>\n",
       "      <td>13.38</td>\n",
       "      <td>18.186440</td>\n",
       "      <td>2.01000</td>\n",
       "      <td>Single phase</td>\n",
       "    </tr>\n",
       "    <tr>\n",
       "      <th>1</th>\n",
       "      <td>2.624000</td>\n",
       "      <td>0.437500</td>\n",
       "      <td>0.9220</td>\n",
       "      <td>0.063086</td>\n",
       "      <td>-0.16</td>\n",
       "      <td>13.38</td>\n",
       "      <td>18.038570</td>\n",
       "      <td>1.99300</td>\n",
       "      <td>Single phase</td>\n",
       "    </tr>\n",
       "    <tr>\n",
       "      <th>2</th>\n",
       "      <td>2.543300</td>\n",
       "      <td>0.482759</td>\n",
       "      <td>0.9640</td>\n",
       "      <td>0.026537</td>\n",
       "      <td>-3.84</td>\n",
       "      <td>13.38</td>\n",
       "      <td>18.688520</td>\n",
       "      <td>1.96000</td>\n",
       "      <td>Single phase</td>\n",
       "    </tr>\n",
       "    <tr>\n",
       "      <th>3</th>\n",
       "      <td>2.533000</td>\n",
       "      <td>0.451613</td>\n",
       "      <td>1.0120</td>\n",
       "      <td>0.046064</td>\n",
       "      <td>-3.52</td>\n",
       "      <td>13.38</td>\n",
       "      <td>19.836200</td>\n",
       "      <td>2.02600</td>\n",
       "      <td>Single phase</td>\n",
       "    </tr>\n",
       "    <tr>\n",
       "      <th>4</th>\n",
       "      <td>2.629800</td>\n",
       "      <td>0.451613</td>\n",
       "      <td>1.0040</td>\n",
       "      <td>0.047429</td>\n",
       "      <td>-3.84</td>\n",
       "      <td>13.38</td>\n",
       "      <td>19.650520</td>\n",
       "      <td>1.98400</td>\n",
       "      <td>Single phase</td>\n",
       "    </tr>\n",
       "    <tr>\n",
       "      <th>...</th>\n",
       "      <td>...</td>\n",
       "      <td>...</td>\n",
       "      <td>...</td>\n",
       "      <td>...</td>\n",
       "      <td>...</td>\n",
       "      <td>...</td>\n",
       "      <td>...</td>\n",
       "      <td>...</td>\n",
       "      <td>...</td>\n",
       "    </tr>\n",
       "    <tr>\n",
       "      <th>287</th>\n",
       "      <td>2.099125</td>\n",
       "      <td>0.378378</td>\n",
       "      <td>0.7175</td>\n",
       "      <td>0.153609</td>\n",
       "      <td>-42.75</td>\n",
       "      <td>11.52</td>\n",
       "      <td>13.939362</td>\n",
       "      <td>2.02875</td>\n",
       "      <td>Multi phase</td>\n",
       "    </tr>\n",
       "    <tr>\n",
       "      <th>288</th>\n",
       "      <td>2.321625</td>\n",
       "      <td>0.500000</td>\n",
       "      <td>0.6550</td>\n",
       "      <td>0.030428</td>\n",
       "      <td>-22.25</td>\n",
       "      <td>11.52</td>\n",
       "      <td>12.309975</td>\n",
       "      <td>1.78625</td>\n",
       "      <td>Multi phase</td>\n",
       "    </tr>\n",
       "    <tr>\n",
       "      <th>289</th>\n",
       "      <td>2.414375</td>\n",
       "      <td>0.500000</td>\n",
       "      <td>0.6900</td>\n",
       "      <td>0.015890</td>\n",
       "      <td>-3.50</td>\n",
       "      <td>11.52</td>\n",
       "      <td>13.056875</td>\n",
       "      <td>1.87625</td>\n",
       "      <td>Multi phase</td>\n",
       "    </tr>\n",
       "    <tr>\n",
       "      <th>290</th>\n",
       "      <td>2.279875</td>\n",
       "      <td>0.482759</td>\n",
       "      <td>0.4825</td>\n",
       "      <td>0.040656</td>\n",
       "      <td>-6.00</td>\n",
       "      <td>11.52</td>\n",
       "      <td>8.866862</td>\n",
       "      <td>1.93000</td>\n",
       "      <td>Multi phase</td>\n",
       "    </tr>\n",
       "    <tr>\n",
       "      <th>291</th>\n",
       "      <td>1.910125</td>\n",
       "      <td>0.500000</td>\n",
       "      <td>0.5675</td>\n",
       "      <td>0.018182</td>\n",
       "      <td>-12.00</td>\n",
       "      <td>11.52</td>\n",
       "      <td>10.495662</td>\n",
       "      <td>1.87250</td>\n",
       "      <td>Multi phase</td>\n",
       "    </tr>\n",
       "  </tbody>\n",
       "</table>\n",
       "<p>292 rows × 9 columns</p>\n",
       "</div>"
      ],
      "text/plain": [
       "     ΔX mulliken     rA/rC  ΔX Pauling     Delta  ΔH mixing  ΔS mixing  \\\n",
       "0       2.629500  0.437500      0.9280  0.063086       1.12      13.38   \n",
       "1       2.624000  0.437500      0.9220  0.063086      -0.16      13.38   \n",
       "2       2.543300  0.482759      0.9640  0.026537      -3.84      13.38   \n",
       "3       2.533000  0.451613      1.0120  0.046064      -3.52      13.38   \n",
       "4       2.629800  0.451613      1.0040  0.047429      -3.84      13.38   \n",
       "..           ...       ...         ...       ...        ...        ...   \n",
       "287     2.099125  0.378378      0.7175  0.153609     -42.75      11.52   \n",
       "288     2.321625  0.500000      0.6550  0.030428     -22.25      11.52   \n",
       "289     2.414375  0.500000      0.6900  0.015890      -3.50      11.52   \n",
       "290     2.279875  0.482759      0.4825  0.040656      -6.00      11.52   \n",
       "291     1.910125  0.500000      0.5675  0.018182     -12.00      11.52   \n",
       "\n",
       "           AIC   ΔP-rad Phase formation  \n",
       "0    18.186440  2.01000    Single phase  \n",
       "1    18.038570  1.99300    Single phase  \n",
       "2    18.688520  1.96000    Single phase  \n",
       "3    19.836200  2.02600    Single phase  \n",
       "4    19.650520  1.98400    Single phase  \n",
       "..         ...      ...             ...  \n",
       "287  13.939362  2.02875     Multi phase  \n",
       "288  12.309975  1.78625     Multi phase  \n",
       "289  13.056875  1.87625     Multi phase  \n",
       "290   8.866862  1.93000     Multi phase  \n",
       "291  10.495662  1.87250     Multi phase  \n",
       "\n",
       "[292 rows x 9 columns]"
      ]
     },
     "execution_count": 4,
     "metadata": {},
     "output_type": "execute_result"
    }
   ],
   "source": [
    "dataset=pd.read_excel(\"Combined data.xlsx\")\n",
    "dataset"
   ]
  },
  {
   "cell_type": "code",
   "execution_count": 5,
   "id": "fe0b5df4",
   "metadata": {},
   "outputs": [
    {
     "data": {
      "text/html": [
       "<div>\n",
       "<style scoped>\n",
       "    .dataframe tbody tr th:only-of-type {\n",
       "        vertical-align: middle;\n",
       "    }\n",
       "\n",
       "    .dataframe tbody tr th {\n",
       "        vertical-align: top;\n",
       "    }\n",
       "\n",
       "    .dataframe thead th {\n",
       "        text-align: right;\n",
       "    }\n",
       "</style>\n",
       "<table border=\"1\" class=\"dataframe\">\n",
       "  <thead>\n",
       "    <tr style=\"text-align: right;\">\n",
       "      <th></th>\n",
       "      <th>Phase formation</th>\n",
       "    </tr>\n",
       "  </thead>\n",
       "  <tbody>\n",
       "    <tr>\n",
       "      <th>0</th>\n",
       "      <td>Single phase</td>\n",
       "    </tr>\n",
       "    <tr>\n",
       "      <th>1</th>\n",
       "      <td>Single phase</td>\n",
       "    </tr>\n",
       "    <tr>\n",
       "      <th>2</th>\n",
       "      <td>Single phase</td>\n",
       "    </tr>\n",
       "    <tr>\n",
       "      <th>3</th>\n",
       "      <td>Single phase</td>\n",
       "    </tr>\n",
       "    <tr>\n",
       "      <th>4</th>\n",
       "      <td>Single phase</td>\n",
       "    </tr>\n",
       "    <tr>\n",
       "      <th>...</th>\n",
       "      <td>...</td>\n",
       "    </tr>\n",
       "    <tr>\n",
       "      <th>287</th>\n",
       "      <td>Multi phase</td>\n",
       "    </tr>\n",
       "    <tr>\n",
       "      <th>288</th>\n",
       "      <td>Multi phase</td>\n",
       "    </tr>\n",
       "    <tr>\n",
       "      <th>289</th>\n",
       "      <td>Multi phase</td>\n",
       "    </tr>\n",
       "    <tr>\n",
       "      <th>290</th>\n",
       "      <td>Multi phase</td>\n",
       "    </tr>\n",
       "    <tr>\n",
       "      <th>291</th>\n",
       "      <td>Multi phase</td>\n",
       "    </tr>\n",
       "  </tbody>\n",
       "</table>\n",
       "<p>292 rows × 1 columns</p>\n",
       "</div>"
      ],
      "text/plain": [
       "    Phase formation\n",
       "0      Single phase\n",
       "1      Single phase\n",
       "2      Single phase\n",
       "3      Single phase\n",
       "4      Single phase\n",
       "..              ...\n",
       "287     Multi phase\n",
       "288     Multi phase\n",
       "289     Multi phase\n",
       "290     Multi phase\n",
       "291     Multi phase\n",
       "\n",
       "[292 rows x 1 columns]"
      ]
     },
     "execution_count": 5,
     "metadata": {},
     "output_type": "execute_result"
    }
   ],
   "source": [
    "x=dataset[[\"ΔX mulliken\", 'rA/rC', 'ΔX Pauling', 'Delta', 'ΔH mixing', 'ΔS mixing']]\n",
    "y=dataset[[\"Phase formation\"]]\n",
    "y"
   ]
  },
  {
   "cell_type": "code",
   "execution_count": 6,
   "id": "346b8b71",
   "metadata": {},
   "outputs": [
    {
     "data": {
      "text/html": [
       "<div>\n",
       "<style scoped>\n",
       "    .dataframe tbody tr th:only-of-type {\n",
       "        vertical-align: middle;\n",
       "    }\n",
       "\n",
       "    .dataframe tbody tr th {\n",
       "        vertical-align: top;\n",
       "    }\n",
       "\n",
       "    .dataframe thead th {\n",
       "        text-align: right;\n",
       "    }\n",
       "</style>\n",
       "<table border=\"1\" class=\"dataframe\">\n",
       "  <thead>\n",
       "    <tr style=\"text-align: right;\">\n",
       "      <th></th>\n",
       "      <th>ΔX mulliken</th>\n",
       "      <th>rA/rC</th>\n",
       "      <th>ΔX Pauling</th>\n",
       "      <th>Delta</th>\n",
       "      <th>ΔH mixing</th>\n",
       "      <th>ΔS mixing</th>\n",
       "      <th>Phase formation</th>\n",
       "    </tr>\n",
       "  </thead>\n",
       "  <tbody>\n",
       "    <tr>\n",
       "      <th>68</th>\n",
       "      <td>2.789700</td>\n",
       "      <td>0.378378</td>\n",
       "      <td>1.126</td>\n",
       "      <td>0.106109</td>\n",
       "      <td>-1.28</td>\n",
       "      <td>13.38</td>\n",
       "      <td>Single phase</td>\n",
       "    </tr>\n",
       "    <tr>\n",
       "      <th>209</th>\n",
       "      <td>2.144100</td>\n",
       "      <td>0.378378</td>\n",
       "      <td>0.818</td>\n",
       "      <td>0.122829</td>\n",
       "      <td>-33.12</td>\n",
       "      <td>13.38</td>\n",
       "      <td>Multi phase</td>\n",
       "    </tr>\n",
       "    <tr>\n",
       "      <th>37</th>\n",
       "      <td>2.554400</td>\n",
       "      <td>0.451613</td>\n",
       "      <td>1.072</td>\n",
       "      <td>0.040541</td>\n",
       "      <td>-3.36</td>\n",
       "      <td>13.38</td>\n",
       "      <td>Single phase</td>\n",
       "    </tr>\n",
       "    <tr>\n",
       "      <th>16</th>\n",
       "      <td>2.730500</td>\n",
       "      <td>0.437500</td>\n",
       "      <td>1.002</td>\n",
       "      <td>0.060964</td>\n",
       "      <td>-1.60</td>\n",
       "      <td>13.38</td>\n",
       "      <td>Single phase</td>\n",
       "    </tr>\n",
       "    <tr>\n",
       "      <th>289</th>\n",
       "      <td>2.414375</td>\n",
       "      <td>0.500000</td>\n",
       "      <td>0.690</td>\n",
       "      <td>0.015890</td>\n",
       "      <td>-3.50</td>\n",
       "      <td>11.52</td>\n",
       "      <td>Multi phase</td>\n",
       "    </tr>\n",
       "    <tr>\n",
       "      <th>...</th>\n",
       "      <td>...</td>\n",
       "      <td>...</td>\n",
       "      <td>...</td>\n",
       "      <td>...</td>\n",
       "      <td>...</td>\n",
       "      <td>...</td>\n",
       "      <td>...</td>\n",
       "    </tr>\n",
       "    <tr>\n",
       "      <th>188</th>\n",
       "      <td>2.401600</td>\n",
       "      <td>0.482759</td>\n",
       "      <td>0.700</td>\n",
       "      <td>0.036949</td>\n",
       "      <td>-19.68</td>\n",
       "      <td>13.38</td>\n",
       "      <td>Multi phase</td>\n",
       "    </tr>\n",
       "    <tr>\n",
       "      <th>71</th>\n",
       "      <td>2.571000</td>\n",
       "      <td>0.451613</td>\n",
       "      <td>0.924</td>\n",
       "      <td>0.046064</td>\n",
       "      <td>-2.24</td>\n",
       "      <td>13.38</td>\n",
       "      <td>Single phase</td>\n",
       "    </tr>\n",
       "    <tr>\n",
       "      <th>106</th>\n",
       "      <td>2.726300</td>\n",
       "      <td>0.378378</td>\n",
       "      <td>1.020</td>\n",
       "      <td>0.128073</td>\n",
       "      <td>-2.08</td>\n",
       "      <td>13.38</td>\n",
       "      <td>Single phase</td>\n",
       "    </tr>\n",
       "    <tr>\n",
       "      <th>270</th>\n",
       "      <td>2.657500</td>\n",
       "      <td>0.437500</td>\n",
       "      <td>1.040</td>\n",
       "      <td>0.064511</td>\n",
       "      <td>2.25</td>\n",
       "      <td>11.52</td>\n",
       "      <td>Single phase</td>\n",
       "    </tr>\n",
       "    <tr>\n",
       "      <th>102</th>\n",
       "      <td>2.760900</td>\n",
       "      <td>0.437500</td>\n",
       "      <td>1.118</td>\n",
       "      <td>0.065070</td>\n",
       "      <td>2.56</td>\n",
       "      <td>13.38</td>\n",
       "      <td>Single phase</td>\n",
       "    </tr>\n",
       "  </tbody>\n",
       "</table>\n",
       "<p>219 rows × 7 columns</p>\n",
       "</div>"
      ],
      "text/plain": [
       "     ΔX mulliken     rA/rC  ΔX Pauling     Delta  ΔH mixing  ΔS mixing  \\\n",
       "68      2.789700  0.378378       1.126  0.106109      -1.28      13.38   \n",
       "209     2.144100  0.378378       0.818  0.122829     -33.12      13.38   \n",
       "37      2.554400  0.451613       1.072  0.040541      -3.36      13.38   \n",
       "16      2.730500  0.437500       1.002  0.060964      -1.60      13.38   \n",
       "289     2.414375  0.500000       0.690  0.015890      -3.50      11.52   \n",
       "..           ...       ...         ...       ...        ...        ...   \n",
       "188     2.401600  0.482759       0.700  0.036949     -19.68      13.38   \n",
       "71      2.571000  0.451613       0.924  0.046064      -2.24      13.38   \n",
       "106     2.726300  0.378378       1.020  0.128073      -2.08      13.38   \n",
       "270     2.657500  0.437500       1.040  0.064511       2.25      11.52   \n",
       "102     2.760900  0.437500       1.118  0.065070       2.56      13.38   \n",
       "\n",
       "    Phase formation  \n",
       "68     Single phase  \n",
       "209     Multi phase  \n",
       "37     Single phase  \n",
       "16     Single phase  \n",
       "289     Multi phase  \n",
       "..              ...  \n",
       "188     Multi phase  \n",
       "71     Single phase  \n",
       "106    Single phase  \n",
       "270    Single phase  \n",
       "102    Single phase  \n",
       "\n",
       "[219 rows x 7 columns]"
      ]
     },
     "execution_count": 6,
     "metadata": {},
     "output_type": "execute_result"
    }
   ],
   "source": [
    "x_train, x_test1,  y_train, y_test1=train_test_split(x, y, test_size=0.25, random_state=42)\n",
    "train_set1=pd.concat([x_train, y_train], axis=1)\n",
    "train_set1\n",
    "test_set1=pd.concat([x_test1, y_test1], axis=1)\n",
    "test_set1\n",
    "train_set1"
   ]
  },
  {
   "cell_type": "code",
   "execution_count": null,
   "id": "0876f0d8",
   "metadata": {},
   "outputs": [],
   "source": [
    "df=pd.concat([x_train1, y_train1], axis=1)\n",
    "df"
   ]
  },
  {
   "cell_type": "code",
   "execution_count": null,
   "id": "8ed51723",
   "metadata": {},
   "outputs": [],
   "source": [
    "x=x_train1\n",
    "x"
   ]
  },
  {
   "cell_type": "code",
   "execution_count": null,
   "id": "f07f659c",
   "metadata": {},
   "outputs": [],
   "source": [
    "df.groupby('Phase formation').size()"
   ]
  },
  {
   "cell_type": "code",
   "execution_count": null,
   "id": "fd4a473b",
   "metadata": {},
   "outputs": [],
   "source": []
  },
  {
   "cell_type": "code",
   "execution_count": null,
   "id": "878351eb",
   "metadata": {},
   "outputs": [],
   "source": []
  },
  {
   "cell_type": "code",
   "execution_count": null,
   "id": "5d5ea3cd",
   "metadata": {},
   "outputs": [],
   "source": [
    "ada = ADASYN()\n",
    "x_train1, y_train1 = ada.fit_resample(x_train, y_train)\n",
    "df=pd.concat([x_train1, y_train1], axis=1)\n",
    "df"
   ]
  },
  {
   "cell_type": "code",
   "execution_count": null,
   "id": "2aa78ad1",
   "metadata": {},
   "outputs": [],
   "source": []
  },
  {
   "cell_type": "code",
   "execution_count": null,
   "id": "463255ad",
   "metadata": {},
   "outputs": [],
   "source": [
    "x_train1"
   ]
  },
  {
   "cell_type": "code",
   "execution_count": 6,
   "id": "92054119",
   "metadata": {},
   "outputs": [
    {
     "data": {
      "text/html": [
       "<div>\n",
       "<style scoped>\n",
       "    .dataframe tbody tr th:only-of-type {\n",
       "        vertical-align: middle;\n",
       "    }\n",
       "\n",
       "    .dataframe tbody tr th {\n",
       "        vertical-align: top;\n",
       "    }\n",
       "\n",
       "    .dataframe thead th {\n",
       "        text-align: right;\n",
       "    }\n",
       "</style>\n",
       "<table border=\"1\" class=\"dataframe\">\n",
       "  <thead>\n",
       "    <tr style=\"text-align: right;\">\n",
       "      <th></th>\n",
       "      <th>Unnamed: 0</th>\n",
       "      <th>ΔX mulliken</th>\n",
       "      <th>rA/rC</th>\n",
       "      <th>ΔX Pauling</th>\n",
       "      <th>Delta</th>\n",
       "      <th>ΔH mixing</th>\n",
       "      <th>ΔS mixing</th>\n",
       "      <th>Phase formation</th>\n",
       "      <th>Formation</th>\n",
       "    </tr>\n",
       "  </thead>\n",
       "  <tbody>\n",
       "    <tr>\n",
       "      <th>0</th>\n",
       "      <td>379</td>\n",
       "      <td>2.448854</td>\n",
       "      <td>0.451613</td>\n",
       "      <td>0.837572</td>\n",
       "      <td>0.052204</td>\n",
       "      <td>-6.300157</td>\n",
       "      <td>13.380000</td>\n",
       "      <td>Multi phase</td>\n",
       "      <td>0</td>\n",
       "    </tr>\n",
       "    <tr>\n",
       "      <th>1</th>\n",
       "      <td>408</td>\n",
       "      <td>2.552463</td>\n",
       "      <td>0.451613</td>\n",
       "      <td>0.920435</td>\n",
       "      <td>0.038085</td>\n",
       "      <td>-2.395537</td>\n",
       "      <td>11.619889</td>\n",
       "      <td>Multi phase</td>\n",
       "      <td>0</td>\n",
       "    </tr>\n",
       "    <tr>\n",
       "      <th>2</th>\n",
       "      <td>412</td>\n",
       "      <td>2.601827</td>\n",
       "      <td>0.451613</td>\n",
       "      <td>0.899097</td>\n",
       "      <td>0.045241</td>\n",
       "      <td>-4.251630</td>\n",
       "      <td>12.980012</td>\n",
       "      <td>Multi phase</td>\n",
       "      <td>0</td>\n",
       "    </tr>\n",
       "    <tr>\n",
       "      <th>3</th>\n",
       "      <td>209</td>\n",
       "      <td>2.144100</td>\n",
       "      <td>0.378378</td>\n",
       "      <td>0.818000</td>\n",
       "      <td>0.122829</td>\n",
       "      <td>-33.120000</td>\n",
       "      <td>13.380000</td>\n",
       "      <td>Multi phase</td>\n",
       "      <td>0</td>\n",
       "    </tr>\n",
       "    <tr>\n",
       "      <th>4</th>\n",
       "      <td>75</td>\n",
       "      <td>2.678000</td>\n",
       "      <td>0.437500</td>\n",
       "      <td>0.946000</td>\n",
       "      <td>0.063086</td>\n",
       "      <td>2.240000</td>\n",
       "      <td>13.380000</td>\n",
       "      <td>Single phase</td>\n",
       "      <td>1</td>\n",
       "    </tr>\n",
       "    <tr>\n",
       "      <th>...</th>\n",
       "      <td>...</td>\n",
       "      <td>...</td>\n",
       "      <td>...</td>\n",
       "      <td>...</td>\n",
       "      <td>...</td>\n",
       "      <td>...</td>\n",
       "      <td>...</td>\n",
       "      <td>...</td>\n",
       "      <td>...</td>\n",
       "    </tr>\n",
       "    <tr>\n",
       "      <th>331</th>\n",
       "      <td>374</td>\n",
       "      <td>2.487832</td>\n",
       "      <td>0.451613</td>\n",
       "      <td>0.845461</td>\n",
       "      <td>0.052434</td>\n",
       "      <td>-5.178440</td>\n",
       "      <td>13.380000</td>\n",
       "      <td>Multi phase</td>\n",
       "      <td>0</td>\n",
       "    </tr>\n",
       "    <tr>\n",
       "      <th>332</th>\n",
       "      <td>317</td>\n",
       "      <td>2.407351</td>\n",
       "      <td>0.395909</td>\n",
       "      <td>0.723546</td>\n",
       "      <td>0.117109</td>\n",
       "      <td>-4.817669</td>\n",
       "      <td>13.380000</td>\n",
       "      <td>Multi phase</td>\n",
       "      <td>0</td>\n",
       "    </tr>\n",
       "    <tr>\n",
       "      <th>333</th>\n",
       "      <td>143</td>\n",
       "      <td>2.576100</td>\n",
       "      <td>0.378378</td>\n",
       "      <td>0.922000</td>\n",
       "      <td>0.120437</td>\n",
       "      <td>-1.760000</td>\n",
       "      <td>13.380000</td>\n",
       "      <td>Single phase</td>\n",
       "      <td>1</td>\n",
       "    </tr>\n",
       "    <tr>\n",
       "      <th>334</th>\n",
       "      <td>318</td>\n",
       "      <td>2.371924</td>\n",
       "      <td>0.439498</td>\n",
       "      <td>0.714673</td>\n",
       "      <td>0.062097</td>\n",
       "      <td>-4.547967</td>\n",
       "      <td>13.380000</td>\n",
       "      <td>Multi phase</td>\n",
       "      <td>0</td>\n",
       "    </tr>\n",
       "    <tr>\n",
       "      <th>335</th>\n",
       "      <td>132</td>\n",
       "      <td>2.641800</td>\n",
       "      <td>0.378378</td>\n",
       "      <td>0.924000</td>\n",
       "      <td>0.116950</td>\n",
       "      <td>-3.040000</td>\n",
       "      <td>13.380000</td>\n",
       "      <td>Single phase</td>\n",
       "      <td>1</td>\n",
       "    </tr>\n",
       "  </tbody>\n",
       "</table>\n",
       "<p>336 rows × 9 columns</p>\n",
       "</div>"
      ],
      "text/plain": [
       "     Unnamed: 0  ΔX mulliken     rA/rC  ΔX Pauling     Delta  ΔH mixing  \\\n",
       "0           379     2.448854  0.451613    0.837572  0.052204  -6.300157   \n",
       "1           408     2.552463  0.451613    0.920435  0.038085  -2.395537   \n",
       "2           412     2.601827  0.451613    0.899097  0.045241  -4.251630   \n",
       "3           209     2.144100  0.378378    0.818000  0.122829 -33.120000   \n",
       "4            75     2.678000  0.437500    0.946000  0.063086   2.240000   \n",
       "..          ...          ...       ...         ...       ...        ...   \n",
       "331         374     2.487832  0.451613    0.845461  0.052434  -5.178440   \n",
       "332         317     2.407351  0.395909    0.723546  0.117109  -4.817669   \n",
       "333         143     2.576100  0.378378    0.922000  0.120437  -1.760000   \n",
       "334         318     2.371924  0.439498    0.714673  0.062097  -4.547967   \n",
       "335         132     2.641800  0.378378    0.924000  0.116950  -3.040000   \n",
       "\n",
       "     ΔS mixing Phase formation  Formation  \n",
       "0    13.380000     Multi phase          0  \n",
       "1    11.619889     Multi phase          0  \n",
       "2    12.980012     Multi phase          0  \n",
       "3    13.380000     Multi phase          0  \n",
       "4    13.380000    Single phase          1  \n",
       "..         ...             ...        ...  \n",
       "331  13.380000     Multi phase          0  \n",
       "332  13.380000     Multi phase          0  \n",
       "333  13.380000    Single phase          1  \n",
       "334  13.380000     Multi phase          0  \n",
       "335  13.380000    Single phase          1  \n",
       "\n",
       "[336 rows x 9 columns]"
      ]
     },
     "execution_count": 6,
     "metadata": {},
     "output_type": "execute_result"
    }
   ],
   "source": [
    "Tr=pd.read_excel(\"Final Training data after ADASYN.xlsx\")\n",
    "Tr"
   ]
  },
  {
   "cell_type": "code",
   "execution_count": 7,
   "id": "84f7ebac",
   "metadata": {},
   "outputs": [
    {
     "data": {
      "text/html": [
       "<div>\n",
       "<style scoped>\n",
       "    .dataframe tbody tr th:only-of-type {\n",
       "        vertical-align: middle;\n",
       "    }\n",
       "\n",
       "    .dataframe tbody tr th {\n",
       "        vertical-align: top;\n",
       "    }\n",
       "\n",
       "    .dataframe thead th {\n",
       "        text-align: right;\n",
       "    }\n",
       "</style>\n",
       "<table border=\"1\" class=\"dataframe\">\n",
       "  <thead>\n",
       "    <tr style=\"text-align: right;\">\n",
       "      <th></th>\n",
       "      <th>NO</th>\n",
       "      <th>ΔX mulliken</th>\n",
       "      <th>rA/rC</th>\n",
       "      <th>ΔX Pauling</th>\n",
       "      <th>Delta</th>\n",
       "      <th>ΔH mixing</th>\n",
       "      <th>ΔS mixing</th>\n",
       "      <th>Phase formation</th>\n",
       "      <th>Formation</th>\n",
       "      <th>Prediction</th>\n",
       "    </tr>\n",
       "  </thead>\n",
       "  <tbody>\n",
       "    <tr>\n",
       "      <th>0</th>\n",
       "      <td>224</td>\n",
       "      <td>2.310200</td>\n",
       "      <td>0.482759</td>\n",
       "      <td>0.694000</td>\n",
       "      <td>0.028169</td>\n",
       "      <td>-6.240000</td>\n",
       "      <td>13.380000</td>\n",
       "      <td>Single phase</td>\n",
       "      <td>1</td>\n",
       "      <td>1</td>\n",
       "    </tr>\n",
       "    <tr>\n",
       "      <th>1</th>\n",
       "      <td>431</td>\n",
       "      <td>2.549293</td>\n",
       "      <td>0.467264</td>\n",
       "      <td>0.826660</td>\n",
       "      <td>0.037227</td>\n",
       "      <td>-4.379497</td>\n",
       "      <td>12.778357</td>\n",
       "      <td>Multi phase</td>\n",
       "      <td>0</td>\n",
       "      <td>0</td>\n",
       "    </tr>\n",
       "    <tr>\n",
       "      <th>2</th>\n",
       "      <td>243</td>\n",
       "      <td>2.571200</td>\n",
       "      <td>0.451613</td>\n",
       "      <td>1.078000</td>\n",
       "      <td>0.050907</td>\n",
       "      <td>0.960000</td>\n",
       "      <td>13.380000</td>\n",
       "      <td>Single phase</td>\n",
       "      <td>1</td>\n",
       "      <td>1</td>\n",
       "    </tr>\n",
       "    <tr>\n",
       "      <th>3</th>\n",
       "      <td>23</td>\n",
       "      <td>2.654100</td>\n",
       "      <td>0.378378</td>\n",
       "      <td>0.958000</td>\n",
       "      <td>0.130144</td>\n",
       "      <td>0.640000</td>\n",
       "      <td>13.380000</td>\n",
       "      <td>Single phase</td>\n",
       "      <td>1</td>\n",
       "      <td>1</td>\n",
       "    </tr>\n",
       "    <tr>\n",
       "      <th>4</th>\n",
       "      <td>168</td>\n",
       "      <td>2.664200</td>\n",
       "      <td>0.378378</td>\n",
       "      <td>1.044000</td>\n",
       "      <td>0.118010</td>\n",
       "      <td>-2.400000</td>\n",
       "      <td>13.380000</td>\n",
       "      <td>Single phase</td>\n",
       "      <td>1</td>\n",
       "      <td>1</td>\n",
       "    </tr>\n",
       "    <tr>\n",
       "      <th>...</th>\n",
       "      <td>...</td>\n",
       "      <td>...</td>\n",
       "      <td>...</td>\n",
       "      <td>...</td>\n",
       "      <td>...</td>\n",
       "      <td>...</td>\n",
       "      <td>...</td>\n",
       "      <td>...</td>\n",
       "      <td>...</td>\n",
       "      <td>...</td>\n",
       "    </tr>\n",
       "    <tr>\n",
       "      <th>108</th>\n",
       "      <td>418</td>\n",
       "      <td>2.495057</td>\n",
       "      <td>0.472842</td>\n",
       "      <td>0.821897</td>\n",
       "      <td>0.027882</td>\n",
       "      <td>-2.798421</td>\n",
       "      <td>11.520000</td>\n",
       "      <td>Multi phase</td>\n",
       "      <td>0</td>\n",
       "      <td>0</td>\n",
       "    </tr>\n",
       "    <tr>\n",
       "      <th>109</th>\n",
       "      <td>19</td>\n",
       "      <td>2.720200</td>\n",
       "      <td>0.437500</td>\n",
       "      <td>1.050000</td>\n",
       "      <td>0.066407</td>\n",
       "      <td>-3.040000</td>\n",
       "      <td>13.380000</td>\n",
       "      <td>Single phase</td>\n",
       "      <td>1</td>\n",
       "      <td>1</td>\n",
       "    </tr>\n",
       "    <tr>\n",
       "      <th>110</th>\n",
       "      <td>370</td>\n",
       "      <td>2.499457</td>\n",
       "      <td>0.451613</td>\n",
       "      <td>0.855092</td>\n",
       "      <td>0.051170</td>\n",
       "      <td>-4.913562</td>\n",
       "      <td>13.380000</td>\n",
       "      <td>Multi phase</td>\n",
       "      <td>0</td>\n",
       "      <td>0</td>\n",
       "    </tr>\n",
       "    <tr>\n",
       "      <th>111</th>\n",
       "      <td>343</td>\n",
       "      <td>2.477576</td>\n",
       "      <td>0.378378</td>\n",
       "      <td>0.793886</td>\n",
       "      <td>0.119388</td>\n",
       "      <td>10.841682</td>\n",
       "      <td>13.380000</td>\n",
       "      <td>Multi phase</td>\n",
       "      <td>0</td>\n",
       "      <td>0</td>\n",
       "    </tr>\n",
       "    <tr>\n",
       "      <th>112</th>\n",
       "      <td>118</td>\n",
       "      <td>2.635500</td>\n",
       "      <td>0.437500</td>\n",
       "      <td>0.950000</td>\n",
       "      <td>0.049319</td>\n",
       "      <td>0.480000</td>\n",
       "      <td>13.380000</td>\n",
       "      <td>Single phase</td>\n",
       "      <td>1</td>\n",
       "      <td>1</td>\n",
       "    </tr>\n",
       "  </tbody>\n",
       "</table>\n",
       "<p>113 rows × 10 columns</p>\n",
       "</div>"
      ],
      "text/plain": [
       "      NO  ΔX mulliken     rA/rC  ΔX Pauling     Delta  ΔH mixing  ΔS mixing  \\\n",
       "0    224     2.310200  0.482759    0.694000  0.028169  -6.240000  13.380000   \n",
       "1    431     2.549293  0.467264    0.826660  0.037227  -4.379497  12.778357   \n",
       "2    243     2.571200  0.451613    1.078000  0.050907   0.960000  13.380000   \n",
       "3     23     2.654100  0.378378    0.958000  0.130144   0.640000  13.380000   \n",
       "4    168     2.664200  0.378378    1.044000  0.118010  -2.400000  13.380000   \n",
       "..   ...          ...       ...         ...       ...        ...        ...   \n",
       "108  418     2.495057  0.472842    0.821897  0.027882  -2.798421  11.520000   \n",
       "109   19     2.720200  0.437500    1.050000  0.066407  -3.040000  13.380000   \n",
       "110  370     2.499457  0.451613    0.855092  0.051170  -4.913562  13.380000   \n",
       "111  343     2.477576  0.378378    0.793886  0.119388  10.841682  13.380000   \n",
       "112  118     2.635500  0.437500    0.950000  0.049319   0.480000  13.380000   \n",
       "\n",
       "    Phase formation  Formation  Prediction  \n",
       "0      Single phase          1           1  \n",
       "1       Multi phase          0           0  \n",
       "2      Single phase          1           1  \n",
       "3      Single phase          1           1  \n",
       "4      Single phase          1           1  \n",
       "..              ...        ...         ...  \n",
       "108     Multi phase          0           0  \n",
       "109    Single phase          1           1  \n",
       "110     Multi phase          0           0  \n",
       "111     Multi phase          0           0  \n",
       "112    Single phase          1           1  \n",
       "\n",
       "[113 rows x 10 columns]"
      ]
     },
     "execution_count": 7,
     "metadata": {},
     "output_type": "execute_result"
    }
   ],
   "source": [
    "Te=pd.read_excel(\"Final Test data after ADASYN.xlsx\")\n",
    "Te"
   ]
  },
  {
   "cell_type": "code",
   "execution_count": 8,
   "id": "e9b69015",
   "metadata": {},
   "outputs": [],
   "source": [
    "x_train=Tr[[\"ΔX mulliken\", 'rA/rC', 'ΔX Pauling', 'Delta', 'ΔH mixing', 'ΔS mixing']]\n",
    "y_train1=Tr[[\"Phase formation\"]]\n",
    "x_test1=Te[[\"ΔX mulliken\", 'rA/rC', 'ΔX Pauling', 'Delta', 'ΔH mixing', 'ΔS mixing']]\n",
    "y_test1=Te[[\"Phase formation\"]]"
   ]
  },
  {
   "cell_type": "code",
   "execution_count": null,
   "id": "48625b11",
   "metadata": {},
   "outputs": [],
   "source": []
  },
  {
   "cell_type": "code",
   "execution_count": null,
   "id": "dbaf0252",
   "metadata": {},
   "outputs": [],
   "source": []
  },
  {
   "cell_type": "code",
   "execution_count": null,
   "id": "3a283b34",
   "metadata": {},
   "outputs": [],
   "source": []
  },
  {
   "cell_type": "code",
   "execution_count": null,
   "id": "fec66047",
   "metadata": {},
   "outputs": [],
   "source": []
  },
  {
   "cell_type": "code",
   "execution_count": null,
   "id": "fcd89912",
   "metadata": {},
   "outputs": [],
   "source": []
  },
  {
   "cell_type": "markdown",
   "id": "98e88f72",
   "metadata": {},
   "source": [
    "# Training the data"
   ]
  },
  {
   "cell_type": "code",
   "execution_count": 8,
   "id": "45bd024e",
   "metadata": {},
   "outputs": [],
   "source": [
    "from sklearn.metrics import accuracy_score\n",
    "from numpy import mean"
   ]
  },
  {
   "cell_type": "code",
   "execution_count": 27,
   "id": "3f83b44a",
   "metadata": {},
   "outputs": [
    {
     "name": "stderr",
     "output_type": "stream",
     "text": [
      "C:\\Users\\rmitr\\anaconda3\\lib\\site-packages\\sklearn\\neighbors\\_classification.py:179: DataConversionWarning: A column-vector y was passed when a 1d array was expected. Please change the shape of y to (n_samples,), for example using ravel().\n",
      "  return self._fit(X, y)\n"
     ]
    },
    {
     "data": {
      "text/plain": [
       "0.9732142857142857"
      ]
     },
     "execution_count": 27,
     "metadata": {},
     "output_type": "execute_result"
    }
   ],
   "source": [
    "kn.fit(x_train1, y_train1)\n",
    "score_knn_train1=kn.score(x_train1, y_train1)\n",
    "score_knn_train1"
   ]
  },
  {
   "cell_type": "code",
   "execution_count": 28,
   "id": "621e51bf",
   "metadata": {},
   "outputs": [
    {
     "data": {
      "text/plain": [
       "0.9469026548672567"
      ]
     },
     "execution_count": 28,
     "metadata": {},
     "output_type": "execute_result"
    }
   ],
   "source": [
    "score_knn_test1=kn.score(x_test1, y_test1)\n",
    "score_knn_test1"
   ]
  },
  {
   "cell_type": "code",
   "execution_count": null,
   "id": "aa0944a0",
   "metadata": {},
   "outputs": [],
   "source": []
  },
  {
   "cell_type": "code",
   "execution_count": 29,
   "id": "32275b0c",
   "metadata": {},
   "outputs": [
    {
     "name": "stderr",
     "output_type": "stream",
     "text": [
      "C:\\Users\\rmitr\\AppData\\Local\\Temp/ipykernel_10924/2070946939.py:2: DataConversionWarning: A column-vector y was passed when a 1d array was expected. Please change the shape of y to (n_samples,), for example using ravel().\n",
      "  rf.fit(x_train1, y_train1)\n"
     ]
    },
    {
     "data": {
      "text/plain": [
       "1.0"
      ]
     },
     "execution_count": 29,
     "metadata": {},
     "output_type": "execute_result"
    }
   ],
   "source": [
    "#RF\n",
    "rf.fit(x_train1, y_train1)\n",
    "score_rf_train1=rf.score(x_train1, y_train1)\n",
    "score_rf_train1"
   ]
  },
  {
   "cell_type": "code",
   "execution_count": 30,
   "id": "d45a0d74",
   "metadata": {},
   "outputs": [
    {
     "data": {
      "text/plain": [
       "0.9380530973451328"
      ]
     },
     "execution_count": 30,
     "metadata": {},
     "output_type": "execute_result"
    }
   ],
   "source": [
    "score_rf_test1=rf.score(x_test1, y_test1)\n",
    "score_rf_test1"
   ]
  },
  {
   "cell_type": "code",
   "execution_count": null,
   "id": "5dae8af3",
   "metadata": {},
   "outputs": [],
   "source": []
  },
  {
   "cell_type": "code",
   "execution_count": 31,
   "id": "77389e22",
   "metadata": {},
   "outputs": [
    {
     "name": "stderr",
     "output_type": "stream",
     "text": [
      "C:\\Users\\rmitr\\anaconda3\\lib\\site-packages\\sklearn\\utils\\validation.py:63: DataConversionWarning: A column-vector y was passed when a 1d array was expected. Please change the shape of y to (n_samples, ), for example using ravel().\n",
      "  return f(*args, **kwargs)\n"
     ]
    },
    {
     "data": {
      "text/plain": [
       "0.8928571428571429"
      ]
     },
     "execution_count": 31,
     "metadata": {},
     "output_type": "execute_result"
    }
   ],
   "source": [
    "#SVM\n",
    "svm.fit(x_train1, y_train1)\n",
    "score_svm_train1=svm.score(x_train1, y_train1)\n",
    "score_svm_train1"
   ]
  },
  {
   "cell_type": "code",
   "execution_count": 32,
   "id": "465f9358",
   "metadata": {},
   "outputs": [
    {
     "data": {
      "text/plain": [
       "0.9026548672566371"
      ]
     },
     "execution_count": 32,
     "metadata": {},
     "output_type": "execute_result"
    }
   ],
   "source": [
    "score_svm_test1=svm.score(x_test1, y_test1)\n",
    "score_svm_test1"
   ]
  },
  {
   "cell_type": "code",
   "execution_count": null,
   "id": "53578bb6",
   "metadata": {},
   "outputs": [],
   "source": []
  },
  {
   "cell_type": "code",
   "execution_count": 33,
   "id": "3ee4aa65",
   "metadata": {},
   "outputs": [
    {
     "name": "stderr",
     "output_type": "stream",
     "text": [
      "C:\\Users\\rmitr\\anaconda3\\lib\\site-packages\\sklearn\\utils\\validation.py:63: DataConversionWarning: A column-vector y was passed when a 1d array was expected. Please change the shape of y to (n_samples, ), for example using ravel().\n",
      "  return f(*args, **kwargs)\n"
     ]
    },
    {
     "data": {
      "text/plain": [
       "0.9047619047619048"
      ]
     },
     "execution_count": 33,
     "metadata": {},
     "output_type": "execute_result"
    }
   ],
   "source": [
    "#GNB\n",
    "gnb.fit(x_train1, y_train1)\n",
    "score_gnb_train1=gnb.score(x_train1, y_train1)\n",
    "score_gnb_train1"
   ]
  },
  {
   "cell_type": "code",
   "execution_count": 34,
   "id": "8b84a8fb",
   "metadata": {},
   "outputs": [
    {
     "data": {
      "text/plain": [
       "0.8849557522123894"
      ]
     },
     "execution_count": 34,
     "metadata": {},
     "output_type": "execute_result"
    }
   ],
   "source": [
    "score_gnb_test1=gnb.score(x_test1, y_test1)\n",
    "score_gnb_test1"
   ]
  },
  {
   "cell_type": "code",
   "execution_count": null,
   "id": "cd97984f",
   "metadata": {},
   "outputs": [],
   "source": [
    "list(range(5,15,1))"
   ]
  },
  {
   "cell_type": "markdown",
   "id": "2f9a8dc7",
   "metadata": {},
   "source": [
    "#  Hyperparameter tuning"
   ]
  },
  {
   "cell_type": "code",
   "execution_count": 9,
   "id": "52797c64",
   "metadata": {},
   "outputs": [],
   "source": [
    "cv_method=sklearn.model_selection.RepeatedStratifiedKFold(n_repeats=5, n_splits=3, random_state=40)"
   ]
  },
  {
   "cell_type": "code",
   "execution_count": 10,
   "id": "00c9c7fb",
   "metadata": {},
   "outputs": [],
   "source": [
    "sc=StandardScaler()\n",
    "pca=PCA(n_components=3)"
   ]
  },
  {
   "cell_type": "code",
   "execution_count": 10,
   "id": "ff68adb0",
   "metadata": {},
   "outputs": [],
   "source": [
    "#kn_hp=KNeighborsClassifier(n_neighbors=10,metric='euclidean', weights='distance')\n",
    "#rf_hp=RandomForestClassifier(max_depth=10,min_samples_leaf=1, min_samples_split=5, n_estimators=200)\n",
    "#svm_hp=LinearSVC(C=10, max_iter=1000000)\n",
    "#gnb_hp=gnb"
   ]
  },
  {
   "cell_type": "code",
   "execution_count": 6,
   "id": "e62f0835",
   "metadata": {},
   "outputs": [
    {
     "data": {
      "text/html": [
       "<div>\n",
       "<style scoped>\n",
       "    .dataframe tbody tr th:only-of-type {\n",
       "        vertical-align: middle;\n",
       "    }\n",
       "\n",
       "    .dataframe tbody tr th {\n",
       "        vertical-align: top;\n",
       "    }\n",
       "\n",
       "    .dataframe thead th {\n",
       "        text-align: right;\n",
       "    }\n",
       "</style>\n",
       "<table border=\"1\" class=\"dataframe\">\n",
       "  <thead>\n",
       "    <tr style=\"text-align: right;\">\n",
       "      <th></th>\n",
       "      <th>Phase formation</th>\n",
       "    </tr>\n",
       "  </thead>\n",
       "  <tbody>\n",
       "    <tr>\n",
       "      <th>0</th>\n",
       "      <td>Single phase</td>\n",
       "    </tr>\n",
       "    <tr>\n",
       "      <th>1</th>\n",
       "      <td>Single phase</td>\n",
       "    </tr>\n",
       "    <tr>\n",
       "      <th>2</th>\n",
       "      <td>Single phase</td>\n",
       "    </tr>\n",
       "    <tr>\n",
       "      <th>3</th>\n",
       "      <td>Single phase</td>\n",
       "    </tr>\n",
       "    <tr>\n",
       "      <th>4</th>\n",
       "      <td>Single phase</td>\n",
       "    </tr>\n",
       "    <tr>\n",
       "      <th>...</th>\n",
       "      <td>...</td>\n",
       "    </tr>\n",
       "    <tr>\n",
       "      <th>287</th>\n",
       "      <td>Multi phase</td>\n",
       "    </tr>\n",
       "    <tr>\n",
       "      <th>288</th>\n",
       "      <td>Multi phase</td>\n",
       "    </tr>\n",
       "    <tr>\n",
       "      <th>289</th>\n",
       "      <td>Multi phase</td>\n",
       "    </tr>\n",
       "    <tr>\n",
       "      <th>290</th>\n",
       "      <td>Multi phase</td>\n",
       "    </tr>\n",
       "    <tr>\n",
       "      <th>291</th>\n",
       "      <td>Multi phase</td>\n",
       "    </tr>\n",
       "  </tbody>\n",
       "</table>\n",
       "<p>292 rows × 1 columns</p>\n",
       "</div>"
      ],
      "text/plain": [
       "    Phase formation\n",
       "0      Single phase\n",
       "1      Single phase\n",
       "2      Single phase\n",
       "3      Single phase\n",
       "4      Single phase\n",
       "..              ...\n",
       "287     Multi phase\n",
       "288     Multi phase\n",
       "289     Multi phase\n",
       "290     Multi phase\n",
       "291     Multi phase\n",
       "\n",
       "[292 rows x 1 columns]"
      ]
     },
     "execution_count": 6,
     "metadata": {},
     "output_type": "execute_result"
    }
   ],
   "source": [
    "x=dataset[[\"ΔX mulliken\", 'rA/rC', 'ΔX Pauling', 'Delta', 'ΔH mixing', 'ΔS mixing']]\n",
    "y=dataset[[\"Phase formation\"]]\n",
    "y"
   ]
  },
  {
   "cell_type": "code",
   "execution_count": 7,
   "id": "07c08449",
   "metadata": {},
   "outputs": [],
   "source": [
    "#ada = ADASYN()\n",
    "#x, y= ada.fit_resample(x, y)"
   ]
  },
  {
   "cell_type": "code",
   "execution_count": 8,
   "id": "8bfe7eaf",
   "metadata": {},
   "outputs": [],
   "source": [
    "#ADASYNSET=pd.concat([x, y], axis=1)\n",
    "#ADASYNSET.to_excel(\"All data after ADASYN.xlsx\")\n",
    "#df.to_excel(\"Training data after ADASYN.xlsx\")"
   ]
  },
  {
   "cell_type": "raw",
   "id": "b9e08aea",
   "metadata": {},
   "source": [
    "x_train, x_test1,  y_train1, y_test1=train_test_split(x, y, test_size=0.25, random_state=25)\n",
    "train_set1=pd.concat([x_train, y_train1], axis=1)\n",
    "train_set1\n",
    "test_set1=pd.concat([x_test1, y_test1], axis=1)\n",
    "test_set1\n",
    "train_set1"
   ]
  },
  {
   "cell_type": "raw",
   "id": "982ef415",
   "metadata": {
    "scrolled": false
   },
   "source": [
    "df2=pd.concat([x_train, y_train1], axis=1)\n",
    "df2\n",
    "#df2.to_excel(\"Final Training data after ADASYN.xlsx\")"
   ]
  },
  {
   "cell_type": "code",
   "execution_count": 12,
   "id": "3f0044b5",
   "metadata": {},
   "outputs": [],
   "source": [
    "x_train1=pd.DataFrame(sc.fit_transform(x_train))\n",
    "x_train1\n",
    "x_test1=pd.DataFrame(sc.fit_transform(x_test1))"
   ]
  },
  {
   "cell_type": "code",
   "execution_count": null,
   "id": "39f3b954",
   "metadata": {},
   "outputs": [],
   "source": []
  },
  {
   "cell_type": "code",
   "execution_count": 779,
   "id": "b5495c23",
   "metadata": {},
   "outputs": [],
   "source": [
    "#test_set1.to_excel(\"Final Test data after ADASYN.xlsx\")"
   ]
  },
  {
   "cell_type": "code",
   "execution_count": 16,
   "id": "2c4e10fb",
   "metadata": {},
   "outputs": [
    {
     "name": "stdout",
     "output_type": "stream",
     "text": [
      "Fitting 15 folds for each of 16 candidates, totalling 240 fits\n",
      "Wall time: 6.26 s\n"
     ]
    },
    {
     "name": "stderr",
     "output_type": "stream",
     "text": [
      "C:\\Users\\rmitr\\anaconda3\\lib\\site-packages\\sklearn\\neighbors\\_classification.py:179: DataConversionWarning: A column-vector y was passed when a 1d array was expected. Please change the shape of y to (n_samples,), for example using ravel().\n",
      "  return self._fit(X, y)\n"
     ]
    },
    {
     "data": {
      "text/plain": [
       "{'kn__metric': 'euclidean', 'kn__n_neighbors': 6, 'kn__weights': 'uniform'}"
      ]
     },
     "execution_count": 16,
     "metadata": {},
     "output_type": "execute_result"
    }
   ],
   "source": [
    "%%time\n",
    "#KNN\n",
    "knn_pipe=Pipeline(steps=[('pca', pca),\n",
    "                        ('kn', kn)])\n",
    "grid_params={\n",
    "    'kn__n_neighbors': [6, 7, 8, 9, 10, 11, 12, 13],\n",
    "    'kn__weights':['uniform'],\n",
    "    'kn__metric':['euclidean', 'manhattan']\n",
    "}\n",
    "gs=GridSearchCV(knn_pipe, grid_params,  cv = cv_method, verbose = 1, \n",
    "                      n_jobs = -1)\n",
    "gs_results=gs.fit(x_train1, y_train1)\n",
    "gs_results.best_params_"
   ]
  },
  {
   "cell_type": "code",
   "execution_count": 13,
   "id": "568f625d",
   "metadata": {},
   "outputs": [
    {
     "name": "stderr",
     "output_type": "stream",
     "text": [
      "C:\\Users\\rmitr\\anaconda3\\lib\\site-packages\\sklearn\\neighbors\\_classification.py:179: DataConversionWarning: A column-vector y was passed when a 1d array was expected. Please change the shape of y to (n_samples,), for example using ravel().\n",
      "  return self._fit(X, y)\n"
     ]
    },
    {
     "data": {
      "text/plain": [
       "0.9672619047619048"
      ]
     },
     "execution_count": 13,
     "metadata": {},
     "output_type": "execute_result"
    }
   ],
   "source": [
    "kn_hp=KNeighborsClassifier(n_neighbors=6,metric='euclidean', weights='uniform')\n",
    "kn_hp.fit(x_train1, y_train1)\n",
    "score_knn_train1=kn_hp.score(x_train1, y_train1)\n",
    "score_knn_train1"
   ]
  },
  {
   "cell_type": "code",
   "execution_count": 14,
   "id": "23114b7f",
   "metadata": {},
   "outputs": [
    {
     "data": {
      "text/plain": [
       "0.9557522123893806"
      ]
     },
     "execution_count": 14,
     "metadata": {},
     "output_type": "execute_result"
    }
   ],
   "source": [
    "score_knn_test1=kn_hp.score(x_test1, y_test1)\n",
    "score_knn_test1"
   ]
  },
  {
   "cell_type": "code",
   "execution_count": null,
   "id": "ba903a61",
   "metadata": {},
   "outputs": [],
   "source": []
  },
  {
   "cell_type": "code",
   "execution_count": 730,
   "id": "37bd695a",
   "metadata": {},
   "outputs": [
    {
     "name": "stdout",
     "output_type": "stream",
     "text": [
      "Fitting 15 folds for each of 480 candidates, totalling 7200 fits\n",
      "Wall time: 28min 14s\n"
     ]
    },
    {
     "name": "stderr",
     "output_type": "stream",
     "text": [
      "C:\\Users\\rmitr\\anaconda3\\lib\\site-packages\\sklearn\\pipeline.py:346: DataConversionWarning: A column-vector y was passed when a 1d array was expected. Please change the shape of y to (n_samples,), for example using ravel().\n",
      "  self._final_estimator.fit(Xt, y, **fit_params_last_step)\n"
     ]
    },
    {
     "data": {
      "text/plain": [
       "{'rf__max_depth': 15,\n",
       " 'rf__min_samples_leaf': 1,\n",
       " 'rf__min_samples_split': 2,\n",
       " 'rf__n_estimators': 100}"
      ]
     },
     "execution_count": 730,
     "metadata": {},
     "output_type": "execute_result"
    }
   ],
   "source": [
    "%%time\n",
    "#RF\n",
    "rf_pipe=Pipeline(steps=[('pca', pca),\n",
    "                        ('rf', rf)])\n",
    "n_estimators = [100, 200, 300, 400, 500]\n",
    "max_depth = [1, 2, 5, 8, 10, 15]\n",
    "min_samples_split = [2, 5, 10, 15]\n",
    "min_samples_leaf = [1, 2, 5, 10] \n",
    "\n",
    "hyperF = dict(rf__n_estimators = n_estimators, rf__max_depth = max_depth,  \n",
    "              rf__min_samples_split = min_samples_split, \n",
    "             rf__min_samples_leaf = min_samples_leaf)\n",
    "\n",
    "gridF = GridSearchCV(rf_pipe, hyperF, cv = cv_method, verbose = 1, \n",
    "                      n_jobs = -1)\n",
    "bestF = gridF.fit(x_train1, y_train1)\n",
    "bestF.best_params_"
   ]
  },
  {
   "cell_type": "code",
   "execution_count": 23,
   "id": "730cd1df",
   "metadata": {},
   "outputs": [
    {
     "name": "stderr",
     "output_type": "stream",
     "text": [
      "C:\\Users\\rmitr\\AppData\\Local\\Temp/ipykernel_10924/4050379019.py:2: DataConversionWarning: A column-vector y was passed when a 1d array was expected. Please change the shape of y to (n_samples,), for example using ravel().\n",
      "  rf_hp.fit(x_train1, y_train1)\n"
     ]
    },
    {
     "data": {
      "text/plain": [
       "1.0"
      ]
     },
     "execution_count": 23,
     "metadata": {},
     "output_type": "execute_result"
    }
   ],
   "source": [
    "rf_hp=RandomForestClassifier(max_depth=15,min_samples_leaf=1, min_samples_split=2, n_estimators=100)\n",
    "rf_hp.fit(x_train1, y_train1)\n",
    "score_rf_train1=rf_hp.score(x_train1, y_train1)\n",
    "score_rf_train1"
   ]
  },
  {
   "cell_type": "code",
   "execution_count": 24,
   "id": "ad82b4b3",
   "metadata": {},
   "outputs": [
    {
     "data": {
      "text/plain": [
       "0.9557522123893806"
      ]
     },
     "execution_count": 24,
     "metadata": {},
     "output_type": "execute_result"
    }
   ],
   "source": [
    "score_rf_test1=rf_hp.score(x_test1, y_test1)\n",
    "score_rf_test1"
   ]
  },
  {
   "cell_type": "code",
   "execution_count": null,
   "id": "4ded4c8c",
   "metadata": {},
   "outputs": [],
   "source": []
  },
  {
   "cell_type": "code",
   "execution_count": 642,
   "id": "294c0b1f",
   "metadata": {},
   "outputs": [
    {
     "name": "stdout",
     "output_type": "stream",
     "text": [
      "Fitting 15 folds for each of 80 candidates, totalling 1200 fits\n"
     ]
    },
    {
     "name": "stderr",
     "output_type": "stream",
     "text": [
      "C:\\Users\\rmitr\\anaconda3\\lib\\site-packages\\joblib\\externals\\loky\\process_executor.py:702: UserWarning: A worker stopped while some jobs were given to the executor. This can be caused by a too short worker timeout or by a memory leak.\n",
      "  warnings.warn(\n",
      "C:\\Users\\rmitr\\anaconda3\\lib\\site-packages\\sklearn\\utils\\validation.py:63: DataConversionWarning: A column-vector y was passed when a 1d array was expected. Please change the shape of y to (n_samples, ), for example using ravel().\n",
      "  return f(*args, **kwargs)\n"
     ]
    },
    {
     "name": "stdout",
     "output_type": "stream",
     "text": [
      "Wall time: 13min 58s\n"
     ]
    },
    {
     "data": {
      "text/plain": [
       "{'svm__C': 100, 'svm__max_iter': 1000000}"
      ]
     },
     "execution_count": 642,
     "metadata": {},
     "output_type": "execute_result"
    }
   ],
   "source": [
    "%%time\n",
    "#SVM\n",
    "svm_pipe=Pipeline(steps=[('pca', pca),\n",
    "                        ('svm', svm)])\n",
    "C=[0.00001, 0.0001, 0.001, 0.01,0.1,1, 10, 100, 1000, 10000]\n",
    "max_iter=list(range(1000000, 2000000, 3000000))\n",
    "hyperF1=dict(svm__C=C, \n",
    "            svm__max_iter=max_iter)\n",
    "gridF1= GridSearchCV(svm_pipe, hyperF1, cv = cv_method, verbose = 1, \n",
    "                      n_jobs= -1)\n",
    "svm_bestF=gridF1.fit(x_train1, y_train1)\n",
    "svm_bestF.best_params_"
   ]
  },
  {
   "cell_type": "code",
   "execution_count": 25,
   "id": "4051b532",
   "metadata": {},
   "outputs": [
    {
     "name": "stderr",
     "output_type": "stream",
     "text": [
      "C:\\Users\\rmitr\\anaconda3\\lib\\site-packages\\sklearn\\utils\\validation.py:63: DataConversionWarning: A column-vector y was passed when a 1d array was expected. Please change the shape of y to (n_samples, ), for example using ravel().\n",
      "  return f(*args, **kwargs)\n"
     ]
    },
    {
     "data": {
      "text/plain": [
       "0.9017857142857143"
      ]
     },
     "execution_count": 25,
     "metadata": {},
     "output_type": "execute_result"
    }
   ],
   "source": [
    "svm_hp=LinearSVC(C=0.1, max_iter=1000000)\n",
    "svm_hp.fit(x_train1, y_train1)\n",
    "score_svm_train1=svm_hp.score(x_train1, y_train1)\n",
    "score_svm_train1"
   ]
  },
  {
   "cell_type": "code",
   "execution_count": 26,
   "id": "9bdd9269",
   "metadata": {},
   "outputs": [
    {
     "data": {
      "text/plain": [
       "0.911504424778761"
      ]
     },
     "execution_count": 26,
     "metadata": {},
     "output_type": "execute_result"
    }
   ],
   "source": [
    "score_svm_test1=svm_hp.score(x_test1, y_test1)\n",
    "score_svm_test1"
   ]
  },
  {
   "cell_type": "code",
   "execution_count": null,
   "id": "f7e26af9",
   "metadata": {},
   "outputs": [],
   "source": []
  },
  {
   "cell_type": "markdown",
   "id": "4374c49e",
   "metadata": {},
   "source": [
    "# Crossvallidation score"
   ]
  },
  {
   "cell_type": "code",
   "execution_count": 35,
   "id": "92cf36ab",
   "metadata": {},
   "outputs": [],
   "source": [
    "def baseline_model(model_name):\n",
    "    model = model_name\n",
    "    steps = list()\n",
    "    steps.append(('sc', sc))\n",
    "    steps.append(('ml', model))\n",
    "    pipeline = Pipeline(steps=steps)\n",
    "    cv = cv_method\n",
    "    scores = cross_val_score(pipeline, x_train1, y_train1, scoring='accuracy', cv=cv, n_jobs=-1)\n",
    "    scores=100*scores\n",
    "    print(model,'Accuracy: %.3f' % (mean(scores)))\n",
    "    print('Std: %.3f'%  np.std(scores))"
   ]
  },
  {
   "cell_type": "code",
   "execution_count": 36,
   "id": "0e9fdcd4",
   "metadata": {},
   "outputs": [
    {
     "name": "stdout",
     "output_type": "stream",
     "text": [
      "KNeighborsClassifier() Accuracy: 95.179\n",
      "Std: 1.867\n",
      "RandomForestClassifier() Accuracy: 96.369\n",
      "Std: 1.858\n",
      "LinearSVC() Accuracy: 89.464\n",
      "Std: 1.391\n",
      "GaussianNB() Accuracy: 90.417\n",
      "Std: 2.450\n",
      "Wall time: 6.49 s\n"
     ]
    }
   ],
   "source": [
    "%%time\n",
    "baseline_model(kn)\n",
    "baseline_model(rf)\n",
    "baseline_model(svm)\n",
    "baseline_model(gnb)"
   ]
  },
  {
   "cell_type": "code",
   "execution_count": 37,
   "id": "21c8b880",
   "metadata": {},
   "outputs": [
    {
     "name": "stdout",
     "output_type": "stream",
     "text": [
      "KNeighborsClassifier(metric='euclidean', n_neighbors=6) Accuracy: 94.702\n",
      "Std: 1.739\n",
      "RandomForestClassifier(max_depth=15) Accuracy: 96.429\n",
      "Std: 1.956\n",
      "LinearSVC(C=0.1, max_iter=1000000) Accuracy: 89.464\n",
      "Std: 1.465\n",
      "GaussianNB() Accuracy: 90.417\n",
      "Std: 2.450\n",
      "Wall time: 2.03 s\n"
     ]
    }
   ],
   "source": [
    "%%time\n",
    "baseline_model(kn_hp)\n",
    "baseline_model(rf_hp)\n",
    "baseline_model(svm_hp)\n",
    "baseline_model(gnb)"
   ]
  },
  {
   "cell_type": "code",
   "execution_count": null,
   "id": "1869c075",
   "metadata": {},
   "outputs": [],
   "source": []
  },
  {
   "cell_type": "code",
   "execution_count": null,
   "id": "22c3df5a",
   "metadata": {},
   "outputs": [],
   "source": []
  },
  {
   "cell_type": "code",
   "execution_count": 22,
   "id": "026f7e2e",
   "metadata": {},
   "outputs": [],
   "source": [
    "from sklearn.datasets import load_digits\n",
    "from sklearn.model_selection import learning_curve\n",
    "from sklearn.model_selection import ShuffleSplit"
   ]
  },
  {
   "cell_type": "code",
   "execution_count": 38,
   "id": "d1b39ded",
   "metadata": {},
   "outputs": [],
   "source": [
    "def plot_learning_curve(estimator, X, y, ylim=None, cv=None,\n",
    "                        n_jobs=None, train_sizes=np.linspace(.01, 1.0, 50)):\n",
    "  \n",
    "    fig,ax = plt.subplots(1, 1, figsize=(7,7))\n",
    "\n",
    "    plt.xlabel(\"Training Examples\",font='Times New Roman',fontweight='bold',fontsize=25)\n",
    "    plt.ylabel(\"Accuracy Score\",font='Times New Roman',fontweight='bold',fontsize=25)\n",
    "\n",
    "    train_sizes, train_scores, test_scores, fit_times, _ = \\\n",
    "        learning_curve(estimator, X, y, cv=cv, n_jobs=n_jobs,\n",
    "                       train_sizes=train_sizes,\n",
    "                       return_times=True)\n",
    "    train_scores_mean = (np.mean(train_scores, axis=1))*100\n",
    "    train_scores_std = (np.std(train_scores, axis=1))*100\n",
    "    test_scores_mean = (np.mean(test_scores, axis=1))*100\n",
    "    test_scores_std = (np.std(test_scores, axis=1))*100\n",
    "    fit_times_mean = np.mean(fit_times, axis=1)\n",
    "    fit_times_std = np.std(fit_times, axis=1)\n",
    "\n",
    "    # Plot learning curve\n",
    "    plt.grid()\n",
    "    plt.fill_between(train_sizes, train_scores_mean - train_scores_std,\n",
    "                         train_scores_mean + train_scores_std, alpha=0.1,\n",
    "                         color=\"r\")\n",
    "    plt.fill_between(train_sizes, test_scores_mean - test_scores_std,\n",
    "                         test_scores_mean + test_scores_std, alpha=0.1,\n",
    "                         color=\"g\")\n",
    "    plt.plot(train_sizes, train_scores_mean, 'o-', color=\"r\",\n",
    "                 label=\"Training score\")\n",
    "    plt.plot(train_sizes, test_scores_mean, 'o-', color=\"b\",\n",
    "                 label=\"Cross-validation score\")\n",
    "    leg=plt.legend(loc='lower right',prop={'size':12})\n",
    "    leg.get_frame().set_edgecolor('k')\n",
    "    return plt\n",
    "    "
   ]
  },
  {
   "cell_type": "code",
   "execution_count": 35,
   "id": "c081c499",
   "metadata": {},
   "outputs": [],
   "source": [
    "def plot_learning_curve(estimator, X, y, ylim=None, cv=None,\n",
    "                        n_jobs=None, train_sizes=np.linspace(.01, 1.0, 50)):\n",
    "  \n",
    "    \n",
    "    train_sizes, train_scores, test_scores, fit_times, _ = \\\n",
    "        learning_curve(estimator, X, y, cv=cv, n_jobs=n_jobs,\n",
    "                       train_sizes=train_sizes,\n",
    "                       return_times=True)\n",
    "    train_scores_mean = (np.mean(train_scores, axis=1))*100\n",
    "    train_scores_std = (np.std(train_scores, axis=1))*100\n",
    "    test_scores_mean = (np.mean(test_scores, axis=1))*100\n",
    "    test_scores_std = (np.std(test_scores, axis=1))*100\n",
    "    fit_times_mean = np.mean(fit_times, axis=1)\n",
    "    fit_times_std = np.std(fit_times, axis=1)\n",
    "    return train_scores"
   ]
  },
  {
   "cell_type": "code",
   "execution_count": null,
   "id": "95028827",
   "metadata": {},
   "outputs": [],
   "source": []
  },
  {
   "cell_type": "code",
   "execution_count": 18,
   "id": "54689dfd",
   "metadata": {},
   "outputs": [],
   "source": [
    "X=pd.concat([x_train1,x_test1])\n",
    "X\n",
    "Y=pd.concat([y_train1,y_test1])"
   ]
  },
  {
   "cell_type": "code",
   "execution_count": null,
   "id": "30b7f9b2",
   "metadata": {},
   "outputs": [],
   "source": []
  },
  {
   "cell_type": "code",
   "execution_count": 42,
   "id": "1fa39518",
   "metadata": {},
   "outputs": [
    {
     "data": {
      "text/plain": [
       "([<matplotlib.axis.XTick at 0x1c39b036040>,\n",
       "  <matplotlib.axis.XTick at 0x1c39b0361f0>,\n",
       "  <matplotlib.axis.XTick at 0x1c39b023850>,\n",
       "  <matplotlib.axis.XTick at 0x1c3a13e4b20>,\n",
       "  <matplotlib.axis.XTick at 0x1c3a148f6a0>],\n",
       " [Text(0, 0, ''),\n",
       "  Text(0, 0, ''),\n",
       "  Text(0, 0, ''),\n",
       "  Text(0, 0, ''),\n",
       "  Text(0, 0, '')])"
      ]
     },
     "execution_count": 42,
     "metadata": {},
     "output_type": "execute_result"
    },
    {
     "data": {
      "image/png": "[encoded data removed]",
      "text/plain": [
       "<Figure size 504x504 with 1 Axes>"
      ]
     },
     "metadata": {
      "needs_background": "light"
     },
     "output_type": "display_data"
    }
   ],
   "source": [
    "cv = cv_method\n",
    "plot_learning_curve(kn_hp, X,Y, ylim=(0.1, 1.01), cv=cv, n_jobs=-1)\n",
    "plt.grid(True)\n",
    "plt.xlim([0,300])\n",
    "plt.ylim([50, 102])\n",
    "plt.xticks(range(50, 300, 50))\n",
    "#plt.savefig('learning curve KNN ADASYN.jpg',bbox_inches='tight', dpi=600)"
   ]
  },
  {
   "cell_type": "code",
   "execution_count": null,
   "id": "31d6d580",
   "metadata": {},
   "outputs": [],
   "source": []
  },
  {
   "cell_type": "code",
   "execution_count": null,
   "id": "14c6a038",
   "metadata": {},
   "outputs": [],
   "source": []
  },
  {
   "cell_type": "code",
   "execution_count": 16,
   "id": "8589ea46",
   "metadata": {},
   "outputs": [],
   "source": [
    "clf = OneVsRestClassifier(kn_hp)\n",
    "clf.fit(x_train1, y_train1)\n",
    "predicted_probas = clf.predict_proba(x_test1)"
   ]
  },
  {
   "cell_type": "code",
   "execution_count": 17,
   "id": "b093f3c9",
   "metadata": {},
   "outputs": [
    {
     "data": {
      "text/plain": [
       "Text(0, 0.5, 'True Positive Rate')"
      ]
     },
     "execution_count": 17,
     "metadata": {},
     "output_type": "execute_result"
    },
    {
     "data": {
      "image/png": "[encoded data removed]",
      "text/plain": [
       "<Figure size 504x432 with 1 Axes>"
      ]
     },
     "metadata": {
      "needs_background": "light"
     },
     "output_type": "display_data"
    }
   ],
   "source": [
    "# The magic happens here\n",
    "import matplotlib.pyplot as plt\n",
    "import scikitplot as skplt\n",
    "skplt.metrics.plot_roc(y_test1, predicted_probas, title=None, text_fontsize=18, figsize=(7,6))\n",
    "plt.legend(loc=\"lower right\", fontsize= 14)\n",
    "plt.xlim([-0.05, 1])\n",
    "plt.xlabel('False Positive Rate',fontweight='bold',fontsize=20)\n",
    "plt.ylabel('True Positive Rate',fontweight='bold',fontsize=20)\n",
    "#plt.savefig('AUC-ROC ADASYN KNN.JPG',dpi=600,bbox_inches='tight')"
   ]
  },
  {
   "cell_type": "code",
   "execution_count": 18,
   "id": "4df48d4c",
   "metadata": {},
   "outputs": [
    {
     "data": {
      "text/plain": [
       "<matplotlib.legend.Legend at 0x1c4fcda62b0>"
      ]
     },
     "execution_count": 18,
     "metadata": {},
     "output_type": "execute_result"
    },
    {
     "data": {
      "image/png": "[encoded data removed]",
      "text/plain": [
       "<Figure size 576x504 with 1 Axes>"
      ]
     },
     "metadata": {
      "needs_background": "light"
     },
     "output_type": "display_data"
    }
   ],
   "source": [
    "skplt.metrics.plot_precision_recall(y_test1, predicted_probas, title=None, text_fontsize=18, figsize=(8,7))\n",
    "plt.xlim([0, 1])\n",
    "plt.xlabel('Recall',fontweight='bold',fontsize=20)\n",
    "plt.ylabel('Precision',fontweight='bold',fontsize=20)\n",
    "plt.legend(loc=\"lower right\", fontsize= 14)\n",
    "#plt.savefig('Precision Recall ADASYN KNN.JPG',dpi=600,bbox_inches='tight')"
   ]
  },
  {
   "cell_type": "code",
   "execution_count": null,
   "id": "44cafded",
   "metadata": {},
   "outputs": [],
   "source": []
  },
  {
   "cell_type": "markdown",
   "id": "4cc70598",
   "metadata": {},
   "source": [
    "# Classification reports and confusion matrix"
   ]
  },
  {
   "cell_type": "code",
   "execution_count": 19,
   "id": "2e3c8a31",
   "metadata": {},
   "outputs": [],
   "source": [
    "from sklearn.metrics import roc_auc_score\n",
    "from sklearn.metrics import average_precision_score\n",
    "from sklearn.metrics import f1_score\n",
    "from sklearn.metrics import classification_report"
   ]
  },
  {
   "cell_type": "code",
   "execution_count": 69,
   "id": "cfc48126",
   "metadata": {},
   "outputs": [
    {
     "name": "stderr",
     "output_type": "stream",
     "text": [
      "C:\\Users\\rmitr\\anaconda3\\lib\\site-packages\\sklearn\\neighbors\\_classification.py:179: DataConversionWarning: A column-vector y was passed when a 1d array was expected. Please change the shape of y to (n_samples,), for example using ravel().\n",
      "  return self._fit(X, y)\n"
     ]
    },
    {
     "data": {
      "image/png": "[encoded data removed]",
      "text/plain": [
       "<Figure size 432x288 with 2 Axes>"
      ]
     },
     "metadata": {
      "needs_background": "light"
     },
     "output_type": "display_data"
    }
   ],
   "source": [
    "model=kn_hp\n",
    "model.fit(x_train1, y_train1)\n",
    "y_pred = model.predict(x_test1)\n",
    "skplt.metrics.plot_confusion_matrix(y_test1, y_pred, normalize=True, title=None, text_fontsize=16,cmap='Wistia')\n",
    "plt.xlabel('Predicted phase',fontweight='bold',fontsize=20)\n",
    "plt.ylabel('Actual phase',fontweight='bold',fontsize=20)\n",
    "plt.savefig('Confusion matrix ADASYN KNN.jpg',bbox_inches='tight', dpi=600)"
   ]
  },
  {
   "cell_type": "code",
   "execution_count": 22,
   "id": "6b5e258a",
   "metadata": {},
   "outputs": [
    {
     "data": {
      "text/plain": [
       "0.9556474342988983"
      ]
     },
     "execution_count": 22,
     "metadata": {},
     "output_type": "execute_result"
    }
   ],
   "source": [
    "f1_score(y_test1, y_pred, average='weighted')"
   ]
  },
  {
   "cell_type": "code",
   "execution_count": null,
   "id": "2bb1480c",
   "metadata": {},
   "outputs": [],
   "source": []
  },
  {
   "cell_type": "code",
   "execution_count": null,
   "id": "7676ffde",
   "metadata": {},
   "outputs": [],
   "source": []
  },
  {
   "cell_type": "markdown",
   "id": "88f83cc9",
   "metadata": {},
   "source": [
    "# Prediction for Ternary Plots"
   ]
  },
  {
   "cell_type": "code",
   "execution_count": 5,
   "id": "6ab46082",
   "metadata": {},
   "outputs": [],
   "source": [
    "train=pd.read_excel(\"Final Training data after ADASYN.xlsx\")\n",
    "test=pd.read_excel(\"Final Test data after ADASYN.xlsx\")"
   ]
  },
  {
   "cell_type": "code",
   "execution_count": 6,
   "id": "01c1f9e9",
   "metadata": {},
   "outputs": [],
   "source": [
    "x_train=train[[\"ΔX mulliken\", 'rA/rC', 'ΔX Pauling', 'Delta', 'ΔH mixing', 'ΔS mixing']]\n",
    "y_train=train[[\"Formation\"]]\n",
    "x_test=test[[\"ΔX mulliken\", 'rA/rC', 'ΔX Pauling', 'Delta', 'ΔH mixing', 'ΔS mixing']]\n",
    "y_test=test[[\"Formation\"]]"
   ]
  },
  {
   "cell_type": "code",
   "execution_count": 7,
   "id": "f21ed264",
   "metadata": {},
   "outputs": [],
   "source": [
    "names=[\"ΔX mulliken\", 'rA/rC', 'ΔX Pauling', 'Delta', 'ΔH mixing', 'ΔS mixing']"
   ]
  },
  {
   "cell_type": "code",
   "execution_count": 8,
   "id": "8ced4a9b",
   "metadata": {},
   "outputs": [],
   "source": [
    "sc=StandardScaler()"
   ]
  },
  {
   "cell_type": "code",
   "execution_count": 30,
   "id": "7d2067b9",
   "metadata": {},
   "outputs": [],
   "source": [
    "x_train1=pd.DataFrame(sc.fit_transform(x_train),columns=names[0:6])\n",
    "x_train1\n",
    "x_test1=pd.DataFrame(sc.fit_transform(x_test),columns=names[0:6])"
   ]
  },
  {
   "cell_type": "code",
   "execution_count": 10,
   "id": "6c2c5711",
   "metadata": {},
   "outputs": [],
   "source": [
    "model=KNeighborsClassifier(n_neighbors=6, metric='euclidean', weights='uniform')"
   ]
  },
  {
   "cell_type": "code",
   "execution_count": null,
   "id": "aef56056",
   "metadata": {},
   "outputs": [],
   "source": []
  },
  {
   "cell_type": "code",
   "execution_count": 21,
   "id": "3c8da5e5",
   "metadata": {},
   "outputs": [
    {
     "name": "stderr",
     "output_type": "stream",
     "text": [
      "C:\\Users\\rmitr\\anaconda3\\lib\\site-packages\\sklearn\\neighbors\\_classification.py:179: DataConversionWarning: A column-vector y was passed when a 1d array was expected. Please change the shape of y to (n_samples,), for example using ravel().\n",
      "  return self._fit(X, y)\n"
     ]
    },
    {
     "data": {
      "text/plain": [
       "KNeighborsClassifier(metric='euclidean', n_neighbors=6)"
      ]
     },
     "execution_count": 21,
     "metadata": {},
     "output_type": "execute_result"
    }
   ],
   "source": [
    "model.fit(x_train1, y_train)"
   ]
  },
  {
   "cell_type": "code",
   "execution_count": 11,
   "id": "cdb442b3",
   "metadata": {},
   "outputs": [
    {
     "data": {
      "text/html": [
       "<div>\n",
       "<style scoped>\n",
       "    .dataframe tbody tr th:only-of-type {\n",
       "        vertical-align: middle;\n",
       "    }\n",
       "\n",
       "    .dataframe tbody tr th {\n",
       "        vertical-align: top;\n",
       "    }\n",
       "\n",
       "    .dataframe thead th {\n",
       "        text-align: right;\n",
       "    }\n",
       "</style>\n",
       "<table border=\"1\" class=\"dataframe\">\n",
       "  <thead>\n",
       "    <tr style=\"text-align: right;\">\n",
       "      <th></th>\n",
       "      <th>NbTiZr</th>\n",
       "      <th>Hf</th>\n",
       "      <th>Ta</th>\n",
       "      <th>ΔX mulliken</th>\n",
       "      <th>rA/rC</th>\n",
       "      <th>ΔX Pauling</th>\n",
       "      <th>Delta</th>\n",
       "      <th>ΔH mixing</th>\n",
       "      <th>ΔS mixing</th>\n",
       "    </tr>\n",
       "  </thead>\n",
       "  <tbody>\n",
       "    <tr>\n",
       "      <th>0</th>\n",
       "      <td>0.96</td>\n",
       "      <td>0.02</td>\n",
       "      <td>0.02</td>\n",
       "      <td>2.649720</td>\n",
       "      <td>0.451613</td>\n",
       "      <td>1.065136</td>\n",
       "      <td>0.042532</td>\n",
       "      <td>2.667210</td>\n",
       "      <td>10.394513</td>\n",
       "    </tr>\n",
       "    <tr>\n",
       "      <th>1</th>\n",
       "      <td>0.94</td>\n",
       "      <td>0.02</td>\n",
       "      <td>0.04</td>\n",
       "      <td>2.643124</td>\n",
       "      <td>0.451613</td>\n",
       "      <td>1.064904</td>\n",
       "      <td>0.042150</td>\n",
       "      <td>2.667935</td>\n",
       "      <td>10.789579</td>\n",
       "    </tr>\n",
       "    <tr>\n",
       "      <th>2</th>\n",
       "      <td>0.94</td>\n",
       "      <td>0.04</td>\n",
       "      <td>0.02</td>\n",
       "      <td>2.651774</td>\n",
       "      <td>0.451613</td>\n",
       "      <td>1.068904</td>\n",
       "      <td>0.042759</td>\n",
       "      <td>2.665679</td>\n",
       "      <td>10.789579</td>\n",
       "    </tr>\n",
       "    <tr>\n",
       "      <th>3</th>\n",
       "      <td>0.92</td>\n",
       "      <td>0.02</td>\n",
       "      <td>0.06</td>\n",
       "      <td>2.636529</td>\n",
       "      <td>0.451613</td>\n",
       "      <td>1.064672</td>\n",
       "      <td>0.041764</td>\n",
       "      <td>2.666473</td>\n",
       "      <td>11.094100</td>\n",
       "    </tr>\n",
       "    <tr>\n",
       "      <th>4</th>\n",
       "      <td>0.92</td>\n",
       "      <td>0.04</td>\n",
       "      <td>0.04</td>\n",
       "      <td>2.645179</td>\n",
       "      <td>0.451613</td>\n",
       "      <td>1.068672</td>\n",
       "      <td>0.042387</td>\n",
       "      <td>2.669065</td>\n",
       "      <td>11.181106</td>\n",
       "    </tr>\n",
       "    <tr>\n",
       "      <th>...</th>\n",
       "      <td>...</td>\n",
       "      <td>...</td>\n",
       "      <td>...</td>\n",
       "      <td>...</td>\n",
       "      <td>...</td>\n",
       "      <td>...</td>\n",
       "      <td>...</td>\n",
       "      <td>...</td>\n",
       "      <td>...</td>\n",
       "    </tr>\n",
       "    <tr>\n",
       "      <th>1171</th>\n",
       "      <td>0.02</td>\n",
       "      <td>0.88</td>\n",
       "      <td>0.10</td>\n",
       "      <td>2.711695</td>\n",
       "      <td>0.451613</td>\n",
       "      <td>1.226232</td>\n",
       "      <td>0.021351</td>\n",
       "      <td>1.160795</td>\n",
       "      <td>3.682791</td>\n",
       "    </tr>\n",
       "    <tr>\n",
       "      <th>1172</th>\n",
       "      <td>0.02</td>\n",
       "      <td>0.90</td>\n",
       "      <td>0.08</td>\n",
       "      <td>2.720345</td>\n",
       "      <td>0.451613</td>\n",
       "      <td>1.230232</td>\n",
       "      <td>0.019706</td>\n",
       "      <td>0.968747</td>\n",
       "      <td>3.301435</td>\n",
       "    </tr>\n",
       "    <tr>\n",
       "      <th>1173</th>\n",
       "      <td>0.02</td>\n",
       "      <td>0.92</td>\n",
       "      <td>0.06</td>\n",
       "      <td>2.728995</td>\n",
       "      <td>0.451613</td>\n",
       "      <td>1.234232</td>\n",
       "      <td>0.017827</td>\n",
       "      <td>0.767099</td>\n",
       "      <td>2.874370</td>\n",
       "    </tr>\n",
       "    <tr>\n",
       "      <th>1174</th>\n",
       "      <td>0.02</td>\n",
       "      <td>0.94</td>\n",
       "      <td>0.04</td>\n",
       "      <td>2.737645</td>\n",
       "      <td>0.451613</td>\n",
       "      <td>1.238232</td>\n",
       "      <td>0.015629</td>\n",
       "      <td>0.555851</td>\n",
       "      <td>2.387187</td>\n",
       "    </tr>\n",
       "    <tr>\n",
       "      <th>1175</th>\n",
       "      <td>0.02</td>\n",
       "      <td>0.96</td>\n",
       "      <td>0.02</td>\n",
       "      <td>2.746295</td>\n",
       "      <td>0.451613</td>\n",
       "      <td>1.242232</td>\n",
       "      <td>0.012953</td>\n",
       "      <td>0.335003</td>\n",
       "      <td>1.809461</td>\n",
       "    </tr>\n",
       "  </tbody>\n",
       "</table>\n",
       "<p>1176 rows × 9 columns</p>\n",
       "</div>"
      ],
      "text/plain": [
       "      NbTiZr    Hf    Ta  ΔX mulliken     rA/rC  ΔX Pauling     Delta  \\\n",
       "0       0.96  0.02  0.02     2.649720  0.451613    1.065136  0.042532   \n",
       "1       0.94  0.02  0.04     2.643124  0.451613    1.064904  0.042150   \n",
       "2       0.94  0.04  0.02     2.651774  0.451613    1.068904  0.042759   \n",
       "3       0.92  0.02  0.06     2.636529  0.451613    1.064672  0.041764   \n",
       "4       0.92  0.04  0.04     2.645179  0.451613    1.068672  0.042387   \n",
       "...      ...   ...   ...          ...       ...         ...       ...   \n",
       "1171    0.02  0.88  0.10     2.711695  0.451613    1.226232  0.021351   \n",
       "1172    0.02  0.90  0.08     2.720345  0.451613    1.230232  0.019706   \n",
       "1173    0.02  0.92  0.06     2.728995  0.451613    1.234232  0.017827   \n",
       "1174    0.02  0.94  0.04     2.737645  0.451613    1.238232  0.015629   \n",
       "1175    0.02  0.96  0.02     2.746295  0.451613    1.242232  0.012953   \n",
       "\n",
       "      ΔH mixing  ΔS mixing  \n",
       "0      2.667210  10.394513  \n",
       "1      2.667935  10.789579  \n",
       "2      2.665679  10.789579  \n",
       "3      2.666473  11.094100  \n",
       "4      2.669065  11.181106  \n",
       "...         ...        ...  \n",
       "1171   1.160795   3.682791  \n",
       "1172   0.968747   3.301435  \n",
       "1173   0.767099   2.874370  \n",
       "1174   0.555851   2.387187  \n",
       "1175   0.335003   1.809461  \n",
       "\n",
       "[1176 rows x 9 columns]"
      ]
     },
     "execution_count": 11,
     "metadata": {},
     "output_type": "execute_result"
    }
   ],
   "source": [
    "Pred=pd.read_excel(\"Quinary PS diagram.xlsx\")\n",
    "Pred"
   ]
  },
  {
   "cell_type": "code",
   "execution_count": 13,
   "id": "b799ec7a",
   "metadata": {},
   "outputs": [
    {
     "data": {
      "text/html": [
       "<div>\n",
       "<style scoped>\n",
       "    .dataframe tbody tr th:only-of-type {\n",
       "        vertical-align: middle;\n",
       "    }\n",
       "\n",
       "    .dataframe tbody tr th {\n",
       "        vertical-align: top;\n",
       "    }\n",
       "\n",
       "    .dataframe thead th {\n",
       "        text-align: right;\n",
       "    }\n",
       "</style>\n",
       "<table border=\"1\" class=\"dataframe\">\n",
       "  <thead>\n",
       "    <tr style=\"text-align: right;\">\n",
       "      <th></th>\n",
       "      <th>ΔX mulliken</th>\n",
       "      <th>rA/rC</th>\n",
       "      <th>ΔX Pauling</th>\n",
       "      <th>Delta</th>\n",
       "      <th>ΔH mixing</th>\n",
       "      <th>ΔS mixing</th>\n",
       "    </tr>\n",
       "  </thead>\n",
       "  <tbody>\n",
       "    <tr>\n",
       "      <th>0</th>\n",
       "      <td>2.649720</td>\n",
       "      <td>0.451613</td>\n",
       "      <td>1.065136</td>\n",
       "      <td>0.042532</td>\n",
       "      <td>2.667210</td>\n",
       "      <td>10.394513</td>\n",
       "    </tr>\n",
       "    <tr>\n",
       "      <th>1</th>\n",
       "      <td>2.643124</td>\n",
       "      <td>0.451613</td>\n",
       "      <td>1.064904</td>\n",
       "      <td>0.042150</td>\n",
       "      <td>2.667935</td>\n",
       "      <td>10.789579</td>\n",
       "    </tr>\n",
       "    <tr>\n",
       "      <th>2</th>\n",
       "      <td>2.651774</td>\n",
       "      <td>0.451613</td>\n",
       "      <td>1.068904</td>\n",
       "      <td>0.042759</td>\n",
       "      <td>2.665679</td>\n",
       "      <td>10.789579</td>\n",
       "    </tr>\n",
       "    <tr>\n",
       "      <th>3</th>\n",
       "      <td>2.636529</td>\n",
       "      <td>0.451613</td>\n",
       "      <td>1.064672</td>\n",
       "      <td>0.041764</td>\n",
       "      <td>2.666473</td>\n",
       "      <td>11.094100</td>\n",
       "    </tr>\n",
       "    <tr>\n",
       "      <th>4</th>\n",
       "      <td>2.645179</td>\n",
       "      <td>0.451613</td>\n",
       "      <td>1.068672</td>\n",
       "      <td>0.042387</td>\n",
       "      <td>2.669065</td>\n",
       "      <td>11.181106</td>\n",
       "    </tr>\n",
       "    <tr>\n",
       "      <th>...</th>\n",
       "      <td>...</td>\n",
       "      <td>...</td>\n",
       "      <td>...</td>\n",
       "      <td>...</td>\n",
       "      <td>...</td>\n",
       "      <td>...</td>\n",
       "    </tr>\n",
       "    <tr>\n",
       "      <th>1171</th>\n",
       "      <td>2.711695</td>\n",
       "      <td>0.451613</td>\n",
       "      <td>1.226232</td>\n",
       "      <td>0.021351</td>\n",
       "      <td>1.160795</td>\n",
       "      <td>3.682791</td>\n",
       "    </tr>\n",
       "    <tr>\n",
       "      <th>1172</th>\n",
       "      <td>2.720345</td>\n",
       "      <td>0.451613</td>\n",
       "      <td>1.230232</td>\n",
       "      <td>0.019706</td>\n",
       "      <td>0.968747</td>\n",
       "      <td>3.301435</td>\n",
       "    </tr>\n",
       "    <tr>\n",
       "      <th>1173</th>\n",
       "      <td>2.728995</td>\n",
       "      <td>0.451613</td>\n",
       "      <td>1.234232</td>\n",
       "      <td>0.017827</td>\n",
       "      <td>0.767099</td>\n",
       "      <td>2.874370</td>\n",
       "    </tr>\n",
       "    <tr>\n",
       "      <th>1174</th>\n",
       "      <td>2.737645</td>\n",
       "      <td>0.451613</td>\n",
       "      <td>1.238232</td>\n",
       "      <td>0.015629</td>\n",
       "      <td>0.555851</td>\n",
       "      <td>2.387187</td>\n",
       "    </tr>\n",
       "    <tr>\n",
       "      <th>1175</th>\n",
       "      <td>2.746295</td>\n",
       "      <td>0.451613</td>\n",
       "      <td>1.242232</td>\n",
       "      <td>0.012953</td>\n",
       "      <td>0.335003</td>\n",
       "      <td>1.809461</td>\n",
       "    </tr>\n",
       "  </tbody>\n",
       "</table>\n",
       "<p>1176 rows × 6 columns</p>\n",
       "</div>"
      ],
      "text/plain": [
       "      ΔX mulliken     rA/rC  ΔX Pauling     Delta  ΔH mixing  ΔS mixing\n",
       "0        2.649720  0.451613    1.065136  0.042532   2.667210  10.394513\n",
       "1        2.643124  0.451613    1.064904  0.042150   2.667935  10.789579\n",
       "2        2.651774  0.451613    1.068904  0.042759   2.665679  10.789579\n",
       "3        2.636529  0.451613    1.064672  0.041764   2.666473  11.094100\n",
       "4        2.645179  0.451613    1.068672  0.042387   2.669065  11.181106\n",
       "...           ...       ...         ...       ...        ...        ...\n",
       "1171     2.711695  0.451613    1.226232  0.021351   1.160795   3.682791\n",
       "1172     2.720345  0.451613    1.230232  0.019706   0.968747   3.301435\n",
       "1173     2.728995  0.451613    1.234232  0.017827   0.767099   2.874370\n",
       "1174     2.737645  0.451613    1.238232  0.015629   0.555851   2.387187\n",
       "1175     2.746295  0.451613    1.242232  0.012953   0.335003   1.809461\n",
       "\n",
       "[1176 rows x 6 columns]"
      ]
     },
     "execution_count": 13,
     "metadata": {},
     "output_type": "execute_result"
    }
   ],
   "source": [
    "Xnew=Pred[[\"ΔX mulliken\", 'rA/rC', 'ΔX Pauling', 'Delta', 'ΔH mixing', 'ΔS mixing']]\n",
    "Xnew"
   ]
  },
  {
   "cell_type": "code",
   "execution_count": 14,
   "id": "97d6f59b",
   "metadata": {},
   "outputs": [
    {
     "data": {
      "text/html": [
       "<div>\n",
       "<style scoped>\n",
       "    .dataframe tbody tr th:only-of-type {\n",
       "        vertical-align: middle;\n",
       "    }\n",
       "\n",
       "    .dataframe tbody tr th {\n",
       "        vertical-align: top;\n",
       "    }\n",
       "\n",
       "    .dataframe thead th {\n",
       "        text-align: right;\n",
       "    }\n",
       "</style>\n",
       "<table border=\"1\" class=\"dataframe\">\n",
       "  <thead>\n",
       "    <tr style=\"text-align: right;\">\n",
       "      <th></th>\n",
       "      <th>0</th>\n",
       "      <th>1</th>\n",
       "      <th>2</th>\n",
       "      <th>3</th>\n",
       "      <th>4</th>\n",
       "      <th>5</th>\n",
       "    </tr>\n",
       "  </thead>\n",
       "  <tbody>\n",
       "    <tr>\n",
       "      <th>0</th>\n",
       "      <td>0.795329</td>\n",
       "      <td>-1.0</td>\n",
       "      <td>-1.246613</td>\n",
       "      <td>1.372698</td>\n",
       "      <td>0.588058</td>\n",
       "      <td>0.101521</td>\n",
       "    </tr>\n",
       "    <tr>\n",
       "      <th>1</th>\n",
       "      <td>0.721589</td>\n",
       "      <td>-1.0</td>\n",
       "      <td>-1.251834</td>\n",
       "      <td>1.304697</td>\n",
       "      <td>0.589461</td>\n",
       "      <td>0.255101</td>\n",
       "    </tr>\n",
       "    <tr>\n",
       "      <th>2</th>\n",
       "      <td>0.818303</td>\n",
       "      <td>-1.0</td>\n",
       "      <td>-1.161821</td>\n",
       "      <td>1.413293</td>\n",
       "      <td>0.585095</td>\n",
       "      <td>0.255101</td>\n",
       "    </tr>\n",
       "    <tr>\n",
       "      <th>3</th>\n",
       "      <td>0.647848</td>\n",
       "      <td>-1.0</td>\n",
       "      <td>-1.257054</td>\n",
       "      <td>1.235766</td>\n",
       "      <td>0.586631</td>\n",
       "      <td>0.373483</td>\n",
       "    </tr>\n",
       "    <tr>\n",
       "      <th>4</th>\n",
       "      <td>0.744563</td>\n",
       "      <td>-1.0</td>\n",
       "      <td>-1.167042</td>\n",
       "      <td>1.346956</td>\n",
       "      <td>0.591647</td>\n",
       "      <td>0.407306</td>\n",
       "    </tr>\n",
       "    <tr>\n",
       "      <th>...</th>\n",
       "      <td>...</td>\n",
       "      <td>...</td>\n",
       "      <td>...</td>\n",
       "      <td>...</td>\n",
       "      <td>...</td>\n",
       "      <td>...</td>\n",
       "    </tr>\n",
       "    <tr>\n",
       "      <th>1171</th>\n",
       "      <td>1.488270</td>\n",
       "      <td>-1.0</td>\n",
       "      <td>2.378550</td>\n",
       "      <td>-2.406026</td>\n",
       "      <td>-2.326930</td>\n",
       "      <td>-2.507635</td>\n",
       "    </tr>\n",
       "    <tr>\n",
       "      <th>1172</th>\n",
       "      <td>1.584985</td>\n",
       "      <td>-1.0</td>\n",
       "      <td>2.468563</td>\n",
       "      <td>-2.699424</td>\n",
       "      <td>-2.698553</td>\n",
       "      <td>-2.655886</td>\n",
       "    </tr>\n",
       "    <tr>\n",
       "      <th>1173</th>\n",
       "      <td>1.681700</td>\n",
       "      <td>-1.0</td>\n",
       "      <td>2.558575</td>\n",
       "      <td>-3.034698</td>\n",
       "      <td>-3.088751</td>\n",
       "      <td>-2.821906</td>\n",
       "    </tr>\n",
       "    <tr>\n",
       "      <th>1174</th>\n",
       "      <td>1.778414</td>\n",
       "      <td>-1.0</td>\n",
       "      <td>2.648588</td>\n",
       "      <td>-3.426775</td>\n",
       "      <td>-3.497527</td>\n",
       "      <td>-3.011296</td>\n",
       "    </tr>\n",
       "    <tr>\n",
       "      <th>1175</th>\n",
       "      <td>1.875129</td>\n",
       "      <td>-1.0</td>\n",
       "      <td>2.738600</td>\n",
       "      <td>-3.904230</td>\n",
       "      <td>-3.924878</td>\n",
       "      <td>-3.235885</td>\n",
       "    </tr>\n",
       "  </tbody>\n",
       "</table>\n",
       "<p>1176 rows × 6 columns</p>\n",
       "</div>"
      ],
      "text/plain": [
       "             0    1         2         3         4         5\n",
       "0     0.795329 -1.0 -1.246613  1.372698  0.588058  0.101521\n",
       "1     0.721589 -1.0 -1.251834  1.304697  0.589461  0.255101\n",
       "2     0.818303 -1.0 -1.161821  1.413293  0.585095  0.255101\n",
       "3     0.647848 -1.0 -1.257054  1.235766  0.586631  0.373483\n",
       "4     0.744563 -1.0 -1.167042  1.346956  0.591647  0.407306\n",
       "...        ...  ...       ...       ...       ...       ...\n",
       "1171  1.488270 -1.0  2.378550 -2.406026 -2.326930 -2.507635\n",
       "1172  1.584985 -1.0  2.468563 -2.699424 -2.698553 -2.655886\n",
       "1173  1.681700 -1.0  2.558575 -3.034698 -3.088751 -2.821906\n",
       "1174  1.778414 -1.0  2.648588 -3.426775 -3.497527 -3.011296\n",
       "1175  1.875129 -1.0  2.738600 -3.904230 -3.924878 -3.235885\n",
       "\n",
       "[1176 rows x 6 columns]"
      ]
     },
     "execution_count": 14,
     "metadata": {},
     "output_type": "execute_result"
    }
   ],
   "source": [
    "Xnew=pd.DataFrame(sc.fit_transform(Xnew))\n",
    "Xnew"
   ]
  },
  {
   "cell_type": "code",
   "execution_count": 19,
   "id": "693f2d74",
   "metadata": {},
   "outputs": [],
   "source": [
    "ynew = model.predict_proba(Xnew)"
   ]
  },
  {
   "cell_type": "code",
   "execution_count": 20,
   "id": "9d63b087",
   "metadata": {},
   "outputs": [],
   "source": [
    "ynew\n",
    "dfypred = pd.DataFrame(ynew)\n",
    "dfypred.to_excel(\"Quinary pred for phase stability diagram predict proba.xlsx\")"
   ]
  },
  {
   "cell_type": "code",
   "execution_count": 18,
   "id": "fc005062",
   "metadata": {},
   "outputs": [
    {
     "data": {
      "text/html": [
       "<div>\n",
       "<style scoped>\n",
       "    .dataframe tbody tr th:only-of-type {\n",
       "        vertical-align: middle;\n",
       "    }\n",
       "\n",
       "    .dataframe tbody tr th {\n",
       "        vertical-align: top;\n",
       "    }\n",
       "\n",
       "    .dataframe thead th {\n",
       "        text-align: right;\n",
       "    }\n",
       "</style>\n",
       "<table border=\"1\" class=\"dataframe\">\n",
       "  <thead>\n",
       "    <tr style=\"text-align: right;\">\n",
       "      <th></th>\n",
       "      <th>0</th>\n",
       "    </tr>\n",
       "  </thead>\n",
       "  <tbody>\n",
       "    <tr>\n",
       "      <th>0</th>\n",
       "      <td>0</td>\n",
       "    </tr>\n",
       "    <tr>\n",
       "      <th>1</th>\n",
       "      <td>0</td>\n",
       "    </tr>\n",
       "    <tr>\n",
       "      <th>2</th>\n",
       "      <td>0</td>\n",
       "    </tr>\n",
       "    <tr>\n",
       "      <th>3</th>\n",
       "      <td>0</td>\n",
       "    </tr>\n",
       "    <tr>\n",
       "      <th>4</th>\n",
       "      <td>0</td>\n",
       "    </tr>\n",
       "    <tr>\n",
       "      <th>...</th>\n",
       "      <td>...</td>\n",
       "    </tr>\n",
       "    <tr>\n",
       "      <th>1171</th>\n",
       "      <td>0</td>\n",
       "    </tr>\n",
       "    <tr>\n",
       "      <th>1172</th>\n",
       "      <td>0</td>\n",
       "    </tr>\n",
       "    <tr>\n",
       "      <th>1173</th>\n",
       "      <td>0</td>\n",
       "    </tr>\n",
       "    <tr>\n",
       "      <th>1174</th>\n",
       "      <td>0</td>\n",
       "    </tr>\n",
       "    <tr>\n",
       "      <th>1175</th>\n",
       "      <td>0</td>\n",
       "    </tr>\n",
       "  </tbody>\n",
       "</table>\n",
       "<p>1176 rows × 1 columns</p>\n",
       "</div>"
      ],
      "text/plain": [
       "      0\n",
       "0     0\n",
       "1     0\n",
       "2     0\n",
       "3     0\n",
       "4     0\n",
       "...  ..\n",
       "1171  0\n",
       "1172  0\n",
       "1173  0\n",
       "1174  0\n",
       "1175  0\n",
       "\n",
       "[1176 rows x 1 columns]"
      ]
     },
     "execution_count": 18,
     "metadata": {},
     "output_type": "execute_result"
    }
   ],
   "source": [
    "ypred=model.predict(Xnew)\n",
    "dfpred = pd.DataFrame(ypred)\n",
    "dfpred"
   ]
  },
  {
   "cell_type": "code",
   "execution_count": null,
   "id": "1b4c286c",
   "metadata": {},
   "outputs": [],
   "source": [
    "dfpred.to_excel(\"Ternary pred for phase stability diagram.xlsx\")"
   ]
  },
  {
   "cell_type": "code",
   "execution_count": null,
   "id": "7fe4a4f7",
   "metadata": {},
   "outputs": [],
   "source": []
  }
 ],
 "metadata": {
  "kernelspec": {
   "display_name": "Python 3 (ipykernel)",
   "language": "python",
   "name": "python3"
  },
  "language_info": {
   "codemirror_mode": {
    "name": "ipython",
    "version": 3
   },
   "file_extension": ".py",
   "mimetype": "text/x-python",
   "name": "python",
   "nbconvert_exporter": "python",
   "pygments_lexer": "ipython3",
   "version": "3.9.7"
  }
 },
 "nbformat": 4,
 "nbformat_minor": 5
}
